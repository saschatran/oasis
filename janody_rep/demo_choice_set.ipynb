{
 "cells": [
  {
   "cell_type": "markdown",
   "metadata": {},
   "source": [
    "## OASIS - Demonstration notebook - Choice set generation\n",
    "*V1.0.0 September 2023*\n",
    "\n",
    "This notebook walks through the parameter estimation module of OASIS. The estimator takes as input a scehedule, travel times and settings for the Metropolis-Hastings random walk. A set of unchosen schedules is generated, and formatted to be used as input for [Biogeme](http://biogeme.epfl.ch) (dataset in wide format).\n",
    "\n",
    "You can find the full documentation [here](https://oasis-abm.readthedocs.io/en/latest/), and companion paper [here](https://doi.org/10.1016/j.trc.2023.104291).\n",
    "\n",
    "\n",
    "### Main files\n",
    "\n",
    "The following files are used for the simulation.\n",
    "\n",
    "- ``estimation.py``: This script stores information on the ``ChoiceSetGenerator`` class, used to run the Metropolis-Hastings algorithm, and transform the generated choice set into the appropriate format. \n",
    "- ``metropolis_hastings.py``: Stores the ``random_walk`` function, as well as other functions to handle the results (convergence assessement, statistics)\n",
    "- ``activity.py``: This script handles the input data, and creates ``Activity`` and ``Schedule`` objects. These objects contain information on each activity and on the structure of the schedule. They will be modified during the generation process.\n",
    "- ``operator.py``: The ``Operator`` class and subclasses (e.g. ``Assign``) is used to handle the random walk operators, including functions to compute the change probabilities.\n",
    "- ``runner.py``: The main file to run the simulation.\n",
    "\n",
    "In addition, we have provided a small example to illustrate the implemented functions. They are stored in the ``data/`` folder.\n",
    "\n",
    "In this notebook, we will generate a choice set for one individual."
   ]
  },
  {
   "cell_type": "code",
   "execution_count": 4,
   "metadata": {
    "ExecuteTime": {
     "end_time": "2023-09-04T16:23:49.948362Z",
     "start_time": "2023-09-04T16:23:47.365240Z"
    }
   },
   "outputs": [],
   "source": [
    "import joblib\n",
    "import pandas as pd\n",
    "import numpy as np\n",
    "\n",
    "import oasisabm\n",
    "\n",
    "from oasisabm.estimation import ChoiceSetGenerator\n",
    "from oasisabm.helper_func import parse_df_schedule, schedule_to_pandas"
   ]
  },
  {
   "cell_type": "markdown",
   "metadata": {},
   "source": [
    "### Preparing the input\n",
    "\n",
    "There are three main inputs that must be provided for the simulation: \n",
    "\n",
    "- The list of schedules, one schedule per individual in the population (``DATA``)\n",
    "- A mode travel time matrix (``TT``)\n",
    "- The set of activity parameters for the target distribution (``PARAMS``)\n",
    "\n"
   ]
  },
  {
   "cell_type": "code",
   "execution_count": 5,
   "metadata": {
    "ExecuteTime": {
     "end_time": "2023-09-04T16:23:51.865259Z",
     "start_time": "2023-09-04T16:23:51.850539Z"
    }
   },
   "outputs": [],
   "source": [
    "DATA = joblib.load('../data/example_data_estimation.joblib')\n",
    "TT = joblib.load('../data/example_tt.joblib')\n",
    "\n",
    "PARAMS = '../data/target_params.joblib'"
   ]
  },
  {
   "cell_type": "markdown",
   "metadata": {},
   "source": [
    "Let's examine ``DATA``. \n",
    "\n",
    "This schedule contains two *work* activities and a *leisure* activities. The set of activities is provided as a ``pandas DataFrame``, and contains the label of the activities (a unique identifier and the activity type), a feasible start and end time (not mandatory, and will default to the full day if not provided), the location of the activity, the mode of transportation and desired start and end times. Note that the location and mode should exist as keys in the travel time matrix.\n",
    "\n",
    "Contrary to the ``simulation`` module, the schedule should be an **observed** schedule, meaning that the columns ``start_time`` and ``duration`` must exist and indicate the actual start time and duration of each activity. "
   ]
  },
  {
   "cell_type": "code",
   "execution_count": 6,
   "metadata": {
    "ExecuteTime": {
     "end_time": "2023-09-04T16:23:54.197917Z",
     "start_time": "2023-09-04T16:23:54.171846Z"
    }
   },
   "outputs": [
    {
     "data": {
      "text/html": [
       "<div>\n",
       "<style scoped>\n",
       "    .dataframe tbody tr th:only-of-type {\n",
       "        vertical-align: middle;\n",
       "    }\n",
       "\n",
       "    .dataframe tbody tr th {\n",
       "        vertical-align: top;\n",
       "    }\n",
       "\n",
       "    .dataframe thead th {\n",
       "        text-align: right;\n",
       "    }\n",
       "</style>\n",
       "<table border=\"1\" class=\"dataframe\">\n",
       "  <thead>\n",
       "    <tr style=\"text-align: right;\">\n",
       "      <th></th>\n",
       "      <th>act_id</th>\n",
       "      <th>act_label</th>\n",
       "      <th>label</th>\n",
       "      <th>feasible_start</th>\n",
       "      <th>feasible_end</th>\n",
       "      <th>location</th>\n",
       "      <th>mode_travel</th>\n",
       "      <th>group</th>\n",
       "      <th>desired_start</th>\n",
       "      <th>desired_duration</th>\n",
       "      <th>start_time</th>\n",
       "      <th>end_time</th>\n",
       "      <th>duration</th>\n",
       "    </tr>\n",
       "  </thead>\n",
       "  <tbody>\n",
       "    <tr>\n",
       "      <th>0</th>\n",
       "      <td>1.0</td>\n",
       "      <td>home</td>\n",
       "      <td>dawn</td>\n",
       "      <td>0</td>\n",
       "      <td>24</td>\n",
       "      <td>A</td>\n",
       "      <td>driving</td>\n",
       "      <td>dawn</td>\n",
       "      <td>0.000000</td>\n",
       "      <td>12.940332</td>\n",
       "      <td>0.000000</td>\n",
       "      <td>9.500000</td>\n",
       "      <td>9.500000</td>\n",
       "    </tr>\n",
       "    <tr>\n",
       "      <th>1</th>\n",
       "      <td>2.0</td>\n",
       "      <td>work</td>\n",
       "      <td>work1</td>\n",
       "      <td>5</td>\n",
       "      <td>23</td>\n",
       "      <td>B</td>\n",
       "      <td>driving</td>\n",
       "      <td>work</td>\n",
       "      <td>6.602686</td>\n",
       "      <td>10.470977</td>\n",
       "      <td>9.533333</td>\n",
       "      <td>13.500000</td>\n",
       "      <td>3.966667</td>\n",
       "    </tr>\n",
       "    <tr>\n",
       "      <th>2</th>\n",
       "      <td>1.0</td>\n",
       "      <td>home</td>\n",
       "      <td>home</td>\n",
       "      <td>0</td>\n",
       "      <td>24</td>\n",
       "      <td>A</td>\n",
       "      <td>driving</td>\n",
       "      <td>home</td>\n",
       "      <td>0.000000</td>\n",
       "      <td>12.940332</td>\n",
       "      <td>13.533333</td>\n",
       "      <td>15.166667</td>\n",
       "      <td>1.633333</td>\n",
       "    </tr>\n",
       "    <tr>\n",
       "      <th>3</th>\n",
       "      <td>2.0</td>\n",
       "      <td>work</td>\n",
       "      <td>work2</td>\n",
       "      <td>5</td>\n",
       "      <td>23</td>\n",
       "      <td>B</td>\n",
       "      <td>driving</td>\n",
       "      <td>work</td>\n",
       "      <td>6.602686</td>\n",
       "      <td>10.470977</td>\n",
       "      <td>15.200000</td>\n",
       "      <td>20.000000</td>\n",
       "      <td>4.800000</td>\n",
       "    </tr>\n",
       "    <tr>\n",
       "      <th>4</th>\n",
       "      <td>8.0</td>\n",
       "      <td>leisure</td>\n",
       "      <td>leisure</td>\n",
       "      <td>0</td>\n",
       "      <td>24</td>\n",
       "      <td>B</td>\n",
       "      <td>driving</td>\n",
       "      <td>leisure</td>\n",
       "      <td>16.005231</td>\n",
       "      <td>3.380537</td>\n",
       "      <td>20.466667</td>\n",
       "      <td>20.466667</td>\n",
       "      <td>0.000000</td>\n",
       "    </tr>\n",
       "    <tr>\n",
       "      <th>5</th>\n",
       "      <td>1.0</td>\n",
       "      <td>home</td>\n",
       "      <td>dusk</td>\n",
       "      <td>0</td>\n",
       "      <td>24</td>\n",
       "      <td>A</td>\n",
       "      <td>driving</td>\n",
       "      <td>dusk</td>\n",
       "      <td>0.000000</td>\n",
       "      <td>12.940332</td>\n",
       "      <td>20.500000</td>\n",
       "      <td>24.000000</td>\n",
       "      <td>3.500000</td>\n",
       "    </tr>\n",
       "  </tbody>\n",
       "</table>\n",
       "</div>"
      ],
      "text/plain": [
       "   act_id act_label    label  feasible_start  feasible_end location  \\\n",
       "0     1.0      home     dawn               0            24        A   \n",
       "1     2.0      work    work1               5            23        B   \n",
       "2     1.0      home     home               0            24        A   \n",
       "3     2.0      work    work2               5            23        B   \n",
       "4     8.0   leisure  leisure               0            24        B   \n",
       "5     1.0      home     dusk               0            24        A   \n",
       "\n",
       "  mode_travel    group  desired_start  desired_duration  start_time  \\\n",
       "0     driving     dawn       0.000000         12.940332    0.000000   \n",
       "1     driving     work       6.602686         10.470977    9.533333   \n",
       "2     driving     home       0.000000         12.940332   13.533333   \n",
       "3     driving     work       6.602686         10.470977   15.200000   \n",
       "4     driving  leisure      16.005231          3.380537   20.466667   \n",
       "5     driving     dusk       0.000000         12.940332   20.500000   \n",
       "\n",
       "    end_time  duration  \n",
       "0   9.500000  9.500000  \n",
       "1  13.500000  3.966667  \n",
       "2  15.166667  1.633333  \n",
       "3  20.000000  4.800000  \n",
       "4  20.466667  0.000000  \n",
       "5  24.000000  3.500000  "
      ]
     },
     "execution_count": 6,
     "metadata": {},
     "output_type": "execute_result"
    }
   ],
   "source": [
    "DATA"
   ]
  },
  {
   "cell_type": "markdown",
   "metadata": {
    "ExecuteTime": {
     "end_time": "2023-09-04T16:18:06.623418Z",
     "start_time": "2023-09-04T16:18:06.608742Z"
    }
   },
   "source": [
    "The travel time matrix is a dictionary formatted as:\n",
    "\n",
    "``{mode: {\n",
    "origin_location: {\n",
    "destination_location1 : travel_time_1,\n",
    "destination_location2 : travel_time_2\n",
    "}}}``\n",
    "\n",
    "The travel time is in hours. In this example, we consider the travel times for the *driving* mode and two different locations.\n",
    "\n"
   ]
  },
  {
   "cell_type": "code",
   "execution_count": 7,
   "metadata": {
    "ExecuteTime": {
     "end_time": "2023-09-04T16:23:57.913022Z",
     "start_time": "2023-09-04T16:23:57.907814Z"
    }
   },
   "outputs": [
    {
     "data": {
      "text/plain": [
       "{'driving': {'A': {'A': 0, 'B': 0.0002777777777777778},\n",
       "  'B': {'A': 0.0002777777777777778, 'B': 0}}}"
      ]
     },
     "execution_count": 7,
     "metadata": {},
     "output_type": "execute_result"
    }
   ],
   "source": [
    "TT"
   ]
  },
  {
   "cell_type": "markdown",
   "metadata": {},
   "source": [
    "To proceed with the estimation, we transform the ``DataFrame`` schedule into a ``Schedule`` object. We can do this using the ``parse_df_schedule`` function. The ``Schedule`` class stores information on the activities in the schedule, which are themselves ``Activity`` objects (storing timings, locations, modes), as well as specific functions that will be helpful during the random walk. For example, the ``streamline()`` function makes sure to restore validity conditions (e.g. 24h time budget, start and end at home) after a change has been applied by an operator."
   ]
  },
  {
   "cell_type": "code",
   "execution_count": 8,
   "metadata": {
    "ExecuteTime": {
     "end_time": "2023-09-04T16:24:00.717653Z",
     "start_time": "2023-09-04T16:24:00.712970Z"
    }
   },
   "outputs": [],
   "source": [
    "DATA = [parse_df_schedule(DATA, TT)]"
   ]
  },
  {
   "cell_type": "code",
   "execution_count": 9,
   "metadata": {
    "ExecuteTime": {
     "end_time": "2023-09-04T16:24:34.473481Z",
     "start_time": "2023-09-04T16:24:34.469627Z"
    }
   },
   "outputs": [
    {
     "name": "stdout",
     "output_type": "stream",
     "text": [
      "<class 'oasisabm.activity.Schedule'>\n"
     ]
    }
   ],
   "source": [
    "print(type(DATA[0]))"
   ]
  },
  {
   "cell_type": "code",
   "execution_count": 10,
   "metadata": {
    "ExecuteTime": {
     "end_time": "2023-09-04T16:24:55.979869Z",
     "start_time": "2023-09-04T16:24:55.975803Z"
    }
   },
   "outputs": [
    {
     "name": "stdout",
     "output_type": "stream",
     "text": [
      "home: start time 0.0, duration 9.5 h, location A\n",
      "work: start time 9.533333333333331, duration 3.966666666666667 h, location B\n",
      "home: start time 13.533333333333331, duration 1.6333333333333329 h, location A\n",
      "work: start time 15.2, duration 4.800000000000001 h, location B\n",
      "leisure: start time 20.466666666666665, duration 0.0 h, location B\n",
      "home: start time 20.5, duration 3.5 h, location A\n"
     ]
    }
   ],
   "source": [
    "for activity in DATA[0].list_act:\n",
    "    print(activity)"
   ]
  },
  {
   "cell_type": "markdown",
   "metadata": {},
   "source": [
    "### Setting up the estimator\n",
    "\n",
    "We create a new ``ChoiceSetGenerator``, to generate a choice set of ``n_alt = 5`` alternatives. We specify additional parameters for the Metropolis-Hastings algorithm, such as the number of iterations, the number of iterations for warm-up, and thinning. Note that these parameters can also be provided directly in the ``settings.py`` file. This file includes for example default parameters for operators and activities (probabilities)."
   ]
  },
  {
   "cell_type": "code",
   "execution_count": 11,
   "metadata": {
    "ExecuteTime": {
     "end_time": "2023-09-03T22:05:30.964945Z",
     "start_time": "2023-09-03T22:05:30.961686Z"
    }
   },
   "outputs": [],
   "source": [
    "mh_params = {\"n_iter\":1000,\n",
    "\"n_burn\": 50,\n",
    " \"n_skip\": 1,\n",
    " \"uniform\": False,\n",
    "}\n"
   ]
  },
  {
   "cell_type": "code",
   "execution_count": 12,
   "metadata": {
    "ExecuteTime": {
     "end_time": "2023-09-03T22:05:35.120648Z",
     "start_time": "2023-09-03T22:05:35.098894Z"
    }
   },
   "outputs": [],
   "source": [
    "estimator = ChoiceSetGenerator(DATA, PARAMS, n_alt = 10, mh_params=mh_params)"
   ]
  },
  {
   "cell_type": "markdown",
   "metadata": {},
   "source": [
    "### Running and handling results\n",
    "\n",
    "The ``run()`` function is called to run the Metropolis-Hastings algorithm. For large samples and number of iterations, we recommend parallelising the code using the ``run_parallel()``function instead.\n",
    "\n",
    "We plot a few draws using the ``output`` function with the ``plot`` argument. Note that for each choice set, the first schedule is the chosen one."
   ]
  },
  {
   "cell_type": "code",
   "execution_count": 13,
   "metadata": {
    "ExecuteTime": {
     "end_time": "2023-09-03T22:05:36.819053Z",
     "start_time": "2023-09-03T22:05:36.209805Z"
    },
    "scrolled": false
   },
   "outputs": [
    {
     "name": "stdout",
     "output_type": "stream",
     "text": [
      "Starting generation for individual 0.\n",
      "\n"
     ]
    },
    {
     "name": "stderr",
     "output_type": "stream",
     "text": [
      "/usr/local/lib/python3.8/site-packages/oasisabm/metropolis_hastings.py:74: RuntimeWarning: divide by zero encountered in log\n",
      "  ratio = min(np.log(abs(new_weight)) - np.log(abs(current_weight)) + np.log(b_proba) - np.log(f_proba), 0)\n",
      "/usr/local/lib/python3.8/site-packages/oasisabm/metropolis_hastings.py:74: RuntimeWarning: invalid value encountered in log\n",
      "  ratio = min(np.log(abs(new_weight)) - np.log(abs(current_weight)) + np.log(b_proba) - np.log(f_proba), 0)\n"
     ]
    },
    {
     "name": "stdout",
     "output_type": "stream",
     "text": [
      "Total runtime: 0:00:01.064859\n"
     ]
    }
   ],
   "source": [
    "estimator.run()"
   ]
  },
  {
   "cell_type": "code",
   "execution_count": 14,
   "metadata": {
    "ExecuteTime": {
     "end_time": "2023-09-03T22:05:57.864285Z",
     "start_time": "2023-09-03T22:05:57.831120Z"
    }
   },
   "outputs": [
    {
     "data": {
      "text/plain": [
       "16"
      ]
     },
     "execution_count": 14,
     "metadata": {},
     "output_type": "execute_result"
    }
   ],
   "source": [
    "unique_draws =[[item for idx, item in enumerate(choice_set) if item not in choice_set[:idx]] for choice_set in estimator.choice_sets]\n",
    "\n",
    "len(unique_draws[0])"
   ]
  },
  {
   "cell_type": "code",
   "execution_count": 15,
   "metadata": {
    "ExecuteTime": {
     "end_time": "2023-09-03T22:06:32.648244Z",
     "start_time": "2023-09-03T22:06:31.478581Z"
    }
   },
   "outputs": [
    {
     "data": {
      "image/png": "[encoded data removed]",
      "text/plain": [
       "<Figure size 2000x300 with 1 Axes>"
      ]
     },
     "metadata": {},
     "output_type": "display_data"
    },
    {
     "data": {
      "image/png": "[encoded data removed]",
      "text/plain": [
       "<Figure size 2000x300 with 1 Axes>"
      ]
     },
     "metadata": {},
     "output_type": "display_data"
    },
    {
     "data": {
      "image/png": "[encoded data removed]",
      "text/plain": [
       "<Figure size 2000x300 with 1 Axes>"
      ]
     },
     "metadata": {},
     "output_type": "display_data"
    },
    {
     "data": {
      "image/png": "[encoded data removed]",
      "text/plain": [
       "<Figure size 2000x300 with 1 Axes>"
      ]
     },
     "metadata": {},
     "output_type": "display_data"
    },
    {
     "data": {
      "image/png": "[encoded data removed]",
      "text/plain": [
       "<Figure size 2000x300 with 1 Axes>"
      ]
     },
     "metadata": {},
     "output_type": "display_data"
    }
   ],
   "source": [
    "for c in unique_draws[0][:5]:\n",
    "    c.output(plot=True)"
   ]
  },
  {
   "cell_type": "markdown",
   "metadata": {},
   "source": [
    "We can use the function ``train_test_sets()`` to create train and test datasets for the estimation. By default, this function splits the observations to have 70% of individuals in the train set and 30% for testing. This function also computes the sample probability to correct the choice probabilities and likelihood function (see Ben-Akiva & Lerman, 1985):\n",
    "\n",
    "$$P_{in} = P_n(i | \\hat{C}_n) =  \\frac{e^{\\mu V_{in} + \\mathbf{\\ln P_n(\\hat{C}_n | i)}}}{\\sum_{j\\in \\hat{C}_n} e^{\\mu V_{jn} + \\mathbf{\\ln P_n(\\hat{C}_n | j)}}}$$"
   ]
  },
  {
   "cell_type": "code",
   "execution_count": 16,
   "metadata": {
    "ExecuteTime": {
     "end_time": "2023-09-03T22:07:36.041853Z",
     "start_time": "2023-09-03T22:07:35.868163Z"
    }
   },
   "outputs": [],
   "source": [
    "train_wide, train_long, test = estimator.train_test_sets()"
   ]
  },
  {
   "cell_type": "code",
   "execution_count": 17,
   "metadata": {
    "ExecuteTime": {
     "end_time": "2023-09-03T22:07:42.281753Z",
     "start_time": "2023-09-03T22:07:42.260146Z"
    }
   },
   "outputs": [
    {
     "data": {
      "text/html": [
       "<div>\n",
       "<style scoped>\n",
       "    .dataframe tbody tr th:only-of-type {\n",
       "        vertical-align: middle;\n",
       "    }\n",
       "\n",
       "    .dataframe tbody tr th {\n",
       "        vertical-align: top;\n",
       "    }\n",
       "\n",
       "    .dataframe thead th {\n",
       "        text-align: right;\n",
       "    }\n",
       "</style>\n",
       "<table border=\"1\" class=\"dataframe\">\n",
       "  <thead>\n",
       "    <tr style=\"text-align: right;\">\n",
       "      <th></th>\n",
       "      <th>obs_id</th>\n",
       "      <th>alt_id</th>\n",
       "      <th>choice</th>\n",
       "      <th>prob_corr</th>\n",
       "      <th>home:start_time</th>\n",
       "      <th>home:duration</th>\n",
       "      <th>home:participation</th>\n",
       "      <th>work:start_time</th>\n",
       "      <th>work:duration</th>\n",
       "      <th>work:participation</th>\n",
       "      <th>...</th>\n",
       "      <th>business_trip:short</th>\n",
       "      <th>business_trip:long</th>\n",
       "      <th>leisure:early</th>\n",
       "      <th>leisure:late</th>\n",
       "      <th>leisure:short</th>\n",
       "      <th>leisure:long</th>\n",
       "      <th>escort:early</th>\n",
       "      <th>escort:late</th>\n",
       "      <th>escort:short</th>\n",
       "      <th>escort:long</th>\n",
       "    </tr>\n",
       "  </thead>\n",
       "  <tbody>\n",
       "    <tr>\n",
       "      <th>0</th>\n",
       "      <td>0</td>\n",
       "      <td>0</td>\n",
       "      <td>1.0</td>\n",
       "      <td>737.922140</td>\n",
       "      <td>0.0</td>\n",
       "      <td>14.699444</td>\n",
       "      <td>1</td>\n",
       "      <td>9.500278</td>\n",
       "      <td>8.832778</td>\n",
       "      <td>1.0</td>\n",
       "      <td>...</td>\n",
       "      <td>0.0</td>\n",
       "      <td>0.0</td>\n",
       "      <td>0.000000</td>\n",
       "      <td>8.0</td>\n",
       "      <td>0.533333</td>\n",
       "      <td>0.000000</td>\n",
       "      <td>0.0</td>\n",
       "      <td>0.0</td>\n",
       "      <td>0.0</td>\n",
       "      <td>0.0</td>\n",
       "    </tr>\n",
       "    <tr>\n",
       "      <th>1</th>\n",
       "      <td>0</td>\n",
       "      <td>0</td>\n",
       "      <td>1.0</td>\n",
       "      <td>737.922140</td>\n",
       "      <td>0.0</td>\n",
       "      <td>14.699444</td>\n",
       "      <td>1</td>\n",
       "      <td>9.500278</td>\n",
       "      <td>8.832778</td>\n",
       "      <td>1.0</td>\n",
       "      <td>...</td>\n",
       "      <td>0.0</td>\n",
       "      <td>0.0</td>\n",
       "      <td>0.000000</td>\n",
       "      <td>8.0</td>\n",
       "      <td>0.533333</td>\n",
       "      <td>0.000000</td>\n",
       "      <td>0.0</td>\n",
       "      <td>0.0</td>\n",
       "      <td>0.0</td>\n",
       "      <td>0.0</td>\n",
       "    </tr>\n",
       "    <tr>\n",
       "      <th>2</th>\n",
       "      <td>0</td>\n",
       "      <td>1</td>\n",
       "      <td>1.0</td>\n",
       "      <td>738.922140</td>\n",
       "      <td>0.0</td>\n",
       "      <td>20.014544</td>\n",
       "      <td>1</td>\n",
       "      <td>0.000000</td>\n",
       "      <td>0.000000</td>\n",
       "      <td>0.0</td>\n",
       "      <td>...</td>\n",
       "      <td>0.0</td>\n",
       "      <td>0.0</td>\n",
       "      <td>0.000000</td>\n",
       "      <td>0.0</td>\n",
       "      <td>0.000000</td>\n",
       "      <td>0.000000</td>\n",
       "      <td>0.0</td>\n",
       "      <td>0.0</td>\n",
       "      <td>0.0</td>\n",
       "      <td>0.0</td>\n",
       "    </tr>\n",
       "    <tr>\n",
       "      <th>3</th>\n",
       "      <td>0</td>\n",
       "      <td>2</td>\n",
       "      <td>1.0</td>\n",
       "      <td>739.197642</td>\n",
       "      <td>0.0</td>\n",
       "      <td>16.684567</td>\n",
       "      <td>1</td>\n",
       "      <td>0.000000</td>\n",
       "      <td>0.000000</td>\n",
       "      <td>0.0</td>\n",
       "      <td>...</td>\n",
       "      <td>0.0</td>\n",
       "      <td>0.0</td>\n",
       "      <td>0.000000</td>\n",
       "      <td>0.0</td>\n",
       "      <td>0.000000</td>\n",
       "      <td>0.000000</td>\n",
       "      <td>0.0</td>\n",
       "      <td>0.0</td>\n",
       "      <td>0.0</td>\n",
       "      <td>0.0</td>\n",
       "    </tr>\n",
       "    <tr>\n",
       "      <th>4</th>\n",
       "      <td>0</td>\n",
       "      <td>3</td>\n",
       "      <td>1.0</td>\n",
       "      <td>739.156059</td>\n",
       "      <td>0.0</td>\n",
       "      <td>20.014544</td>\n",
       "      <td>1</td>\n",
       "      <td>0.000000</td>\n",
       "      <td>0.000000</td>\n",
       "      <td>0.0</td>\n",
       "      <td>...</td>\n",
       "      <td>0.0</td>\n",
       "      <td>0.0</td>\n",
       "      <td>0.000000</td>\n",
       "      <td>0.0</td>\n",
       "      <td>0.000000</td>\n",
       "      <td>0.000000</td>\n",
       "      <td>0.0</td>\n",
       "      <td>0.0</td>\n",
       "      <td>0.0</td>\n",
       "      <td>0.0</td>\n",
       "    </tr>\n",
       "    <tr>\n",
       "      <th>5</th>\n",
       "      <td>0</td>\n",
       "      <td>4</td>\n",
       "      <td>1.0</td>\n",
       "      <td>739.638128</td>\n",
       "      <td>0.0</td>\n",
       "      <td>16.146294</td>\n",
       "      <td>1</td>\n",
       "      <td>0.000000</td>\n",
       "      <td>0.000000</td>\n",
       "      <td>0.0</td>\n",
       "      <td>...</td>\n",
       "      <td>0.0</td>\n",
       "      <td>0.0</td>\n",
       "      <td>3.538273</td>\n",
       "      <td>0.0</td>\n",
       "      <td>0.000000</td>\n",
       "      <td>4.571607</td>\n",
       "      <td>0.0</td>\n",
       "      <td>0.0</td>\n",
       "      <td>0.0</td>\n",
       "      <td>0.0</td>\n",
       "    </tr>\n",
       "  </tbody>\n",
       "</table>\n",
       "<p>6 rows × 60 columns</p>\n",
       "</div>"
      ],
      "text/plain": [
       "   obs_id  alt_id  choice   prob_corr  home:start_time  home:duration  \\\n",
       "0       0       0     1.0  737.922140              0.0      14.699444   \n",
       "1       0       0     1.0  737.922140              0.0      14.699444   \n",
       "2       0       1     1.0  738.922140              0.0      20.014544   \n",
       "3       0       2     1.0  739.197642              0.0      16.684567   \n",
       "4       0       3     1.0  739.156059              0.0      20.014544   \n",
       "5       0       4     1.0  739.638128              0.0      16.146294   \n",
       "\n",
       "   home:participation  work:start_time  work:duration  work:participation  \\\n",
       "0                   1         9.500278       8.832778                 1.0   \n",
       "1                   1         9.500278       8.832778                 1.0   \n",
       "2                   1         0.000000       0.000000                 0.0   \n",
       "3                   1         0.000000       0.000000                 0.0   \n",
       "4                   1         0.000000       0.000000                 0.0   \n",
       "5                   1         0.000000       0.000000                 0.0   \n",
       "\n",
       "   ...  business_trip:short  business_trip:long  leisure:early  leisure:late  \\\n",
       "0  ...                  0.0                 0.0       0.000000           8.0   \n",
       "1  ...                  0.0                 0.0       0.000000           8.0   \n",
       "2  ...                  0.0                 0.0       0.000000           0.0   \n",
       "3  ...                  0.0                 0.0       0.000000           0.0   \n",
       "4  ...                  0.0                 0.0       0.000000           0.0   \n",
       "5  ...                  0.0                 0.0       3.538273           0.0   \n",
       "\n",
       "   leisure:short  leisure:long  escort:early  escort:late  escort:short  \\\n",
       "0       0.533333      0.000000           0.0          0.0           0.0   \n",
       "1       0.533333      0.000000           0.0          0.0           0.0   \n",
       "2       0.000000      0.000000           0.0          0.0           0.0   \n",
       "3       0.000000      0.000000           0.0          0.0           0.0   \n",
       "4       0.000000      0.000000           0.0          0.0           0.0   \n",
       "5       0.000000      4.571607           0.0          0.0           0.0   \n",
       "\n",
       "   escort:long  \n",
       "0          0.0  \n",
       "1          0.0  \n",
       "2          0.0  \n",
       "3          0.0  \n",
       "4          0.0  \n",
       "5          0.0  \n",
       "\n",
       "[6 rows x 60 columns]"
      ]
     },
     "execution_count": 17,
     "metadata": {},
     "output_type": "execute_result"
    }
   ],
   "source": [
    "train_long"
   ]
  },
  {
   "cell_type": "code",
   "execution_count": 18,
   "metadata": {
    "ExecuteTime": {
     "end_time": "2023-09-03T22:08:18.771008Z",
     "start_time": "2023-09-03T22:08:18.750389Z"
    }
   },
   "outputs": [
    {
     "data": {
      "text/html": [
       "<div>\n",
       "<style scoped>\n",
       "    .dataframe tbody tr th:only-of-type {\n",
       "        vertical-align: middle;\n",
       "    }\n",
       "\n",
       "    .dataframe tbody tr th {\n",
       "        vertical-align: top;\n",
       "    }\n",
       "\n",
       "    .dataframe thead th {\n",
       "        text-align: right;\n",
       "    }\n",
       "</style>\n",
       "<table border=\"1\" class=\"dataframe\">\n",
       "  <thead>\n",
       "    <tr style=\"text-align: right;\">\n",
       "      <th></th>\n",
       "      <th>obs_id</th>\n",
       "      <th>choice</th>\n",
       "      <th>prob_corr_0</th>\n",
       "      <th>home:start_time_0</th>\n",
       "      <th>home:duration_0</th>\n",
       "      <th>home:participation_0</th>\n",
       "      <th>work:start_time_0</th>\n",
       "      <th>work:duration_0</th>\n",
       "      <th>work:participation_0</th>\n",
       "      <th>education:start_time_0</th>\n",
       "      <th>...</th>\n",
       "      <th>business_trip:short_4</th>\n",
       "      <th>business_trip:long_4</th>\n",
       "      <th>leisure:early_4</th>\n",
       "      <th>leisure:late_4</th>\n",
       "      <th>leisure:short_4</th>\n",
       "      <th>leisure:long_4</th>\n",
       "      <th>escort:early_4</th>\n",
       "      <th>escort:late_4</th>\n",
       "      <th>escort:short_4</th>\n",
       "      <th>escort:long_4</th>\n",
       "    </tr>\n",
       "  </thead>\n",
       "  <tbody>\n",
       "    <tr>\n",
       "      <th>0</th>\n",
       "      <td>0</td>\n",
       "      <td>0</td>\n",
       "      <td>737.92214</td>\n",
       "      <td>0.0</td>\n",
       "      <td>14.699444</td>\n",
       "      <td>1</td>\n",
       "      <td>9.500278</td>\n",
       "      <td>8.832778</td>\n",
       "      <td>1.0</td>\n",
       "      <td>0.0</td>\n",
       "      <td>...</td>\n",
       "      <td>0.0</td>\n",
       "      <td>0.0</td>\n",
       "      <td>3.538273</td>\n",
       "      <td>0.0</td>\n",
       "      <td>0.0</td>\n",
       "      <td>4.571607</td>\n",
       "      <td>0.0</td>\n",
       "      <td>0.0</td>\n",
       "      <td>0.0</td>\n",
       "      <td>0.0</td>\n",
       "    </tr>\n",
       "    <tr>\n",
       "      <th>1</th>\n",
       "      <td>0</td>\n",
       "      <td>0</td>\n",
       "      <td>737.92214</td>\n",
       "      <td>0.0</td>\n",
       "      <td>14.699444</td>\n",
       "      <td>1</td>\n",
       "      <td>9.500278</td>\n",
       "      <td>8.832778</td>\n",
       "      <td>1.0</td>\n",
       "      <td>0.0</td>\n",
       "      <td>...</td>\n",
       "      <td>0.0</td>\n",
       "      <td>0.0</td>\n",
       "      <td>3.538273</td>\n",
       "      <td>0.0</td>\n",
       "      <td>0.0</td>\n",
       "      <td>4.571607</td>\n",
       "      <td>0.0</td>\n",
       "      <td>0.0</td>\n",
       "      <td>0.0</td>\n",
       "      <td>0.0</td>\n",
       "    </tr>\n",
       "  </tbody>\n",
       "</table>\n",
       "<p>2 rows × 287 columns</p>\n",
       "</div>"
      ],
      "text/plain": [
       "   obs_id  choice  prob_corr_0  home:start_time_0  home:duration_0  \\\n",
       "0       0       0    737.92214                0.0        14.699444   \n",
       "1       0       0    737.92214                0.0        14.699444   \n",
       "\n",
       "   home:participation_0  work:start_time_0  work:duration_0  \\\n",
       "0                     1           9.500278         8.832778   \n",
       "1                     1           9.500278         8.832778   \n",
       "\n",
       "   work:participation_0  education:start_time_0  ...  business_trip:short_4  \\\n",
       "0                   1.0                     0.0  ...                    0.0   \n",
       "1                   1.0                     0.0  ...                    0.0   \n",
       "\n",
       "   business_trip:long_4  leisure:early_4  leisure:late_4  leisure:short_4  \\\n",
       "0                   0.0         3.538273             0.0              0.0   \n",
       "1                   0.0         3.538273             0.0              0.0   \n",
       "\n",
       "   leisure:long_4  escort:early_4  escort:late_4  escort:short_4  \\\n",
       "0        4.571607             0.0            0.0             0.0   \n",
       "1        4.571607             0.0            0.0             0.0   \n",
       "\n",
       "   escort:long_4  \n",
       "0            0.0  \n",
       "1            0.0  \n",
       "\n",
       "[2 rows x 287 columns]"
      ]
     },
     "execution_count": 18,
     "metadata": {},
     "output_type": "execute_result"
    }
   ],
   "source": [
    "train_wide"
   ]
  },
  {
   "cell_type": "code",
   "execution_count": 19,
   "metadata": {
    "ExecuteTime": {
     "end_time": "2023-09-03T22:09:21.763389Z",
     "start_time": "2023-09-03T22:09:21.600311Z"
    }
   },
   "outputs": [
    {
     "data": {
      "text/plain": [
       "['estimator_example.joblib']"
      ]
     },
     "execution_count": 19,
     "metadata": {},
     "output_type": "execute_result"
    }
   ],
   "source": [
    "joblib.dump(estimator, 'estimator_example.joblib')"
   ]
  },
  {
   "cell_type": "code",
   "execution_count": null,
   "metadata": {},
   "outputs": [],
   "source": []
  }
 ],
 "metadata": {
  "kernelspec": {
   "display_name": "Python 3",
   "language": "python",
   "name": "python3"
  },
  "language_info": {
   "codemirror_mode": {
    "name": "ipython",
    "version": 3
   },
   "file_extension": ".py",
   "mimetype": "text/x-python",
   "name": "python",
   "nbconvert_exporter": "python",
   "pygments_lexer": "ipython3",
   "version": "3.9.6"
  },
  "toc": {
   "base_numbering": 1,
   "nav_menu": {},
   "number_sections": true,
   "sideBar": true,
   "skip_h1_title": false,
   "title_cell": "Table of Contents",
   "title_sidebar": "Contents",
   "toc_cell": false,
   "toc_position": {},
   "toc_section_display": true,
   "toc_window_display": false
  }
 },
 "nbformat": 4,
 "nbformat_minor": 4
}
