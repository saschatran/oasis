{
 "cells": [
  {
   "cell_type": "markdown",
   "metadata": {},
   "source": [
    "## OASIS - Demonstration notebook - Choice set generation\n",
    "*V1.0.0 September 2023*\n",
    "\n",
    "This notebook walks through the parameter estimation module of OASIS. The estimator takes as input a scehedule, travel times and settings for the Metropolis-Hastings random walk. A set of unchosen schedules is generated, and formatted to be used as input for [Biogeme](http://biogeme.epfl.ch) (dataset in wide format).\n",
    "\n",
    "You can find the full documentation [here](https://oasis-abm.readthedocs.io/en/latest/), and companion paper [here](https://doi.org/10.1016/j.trc.2023.104291).\n",
    "\n",
    "\n",
    "### Main files\n",
    "\n",
    "The following files are used for the simulation.\n",
    "\n",
    "- ``estimation.py``: This script stores information on the ``ChoiceSetGenerator`` class, used to run the Metropolis-Hastings algorithm, and transform the generated choice set into the appropriate format. \n",
    "- ``metropolis_hastings.py``: Stores the ``random_walk`` function, as well as other functions to handle the results (convergence assessement, statistics)\n",
    "- ``activity.py``: This script handles the input data, and creates ``Activity`` and ``Schedule`` objects. These objects contain information on each activity and on the structure of the schedule. They will be modified during the generation process.\n",
    "- ``operator.py``: The ``Operator`` class and subclasses (e.g. ``Assign``) is used to handle the random walk operators, including functions to compute the change probabilities.\n",
    "- ``runner.py``: The main file to run the simulation.\n",
    "\n",
    "In addition, we have provided a small example to illustrate the implemented functions. They are stored in the ``data/`` folder.\n",
    "\n",
    "In this notebook, we will generate a choice set for one individual."
   ]
  },
  {
   "cell_type": "code",
   "execution_count": 1,
   "metadata": {},
   "outputs": [
    {
     "name": "stdout",
     "output_type": "stream",
     "text": [
      "Collecting oasisabm\n",
      "  Downloading oasisabm-1.0.0-py3-none-any.whl (41 kB)\n",
      "\u001b[2K     \u001b[90m━━━━━━━━━━━━━━━━━━━━━━━━━━━━━━━━━━━━━━━━\u001b[0m \u001b[32m41.5/41.5 kB\u001b[0m \u001b[31m4.5 MB/s\u001b[0m eta \u001b[36m0:00:00\u001b[0m\n",
      "\u001b[?25hRequirement already satisfied: numpy in /usr/local/lib/python3.8/site-packages (from oasisabm) (1.24.4)\n",
      "Requirement already satisfied: pandas in /usr/local/lib/python3.8/site-packages (from oasisabm) (2.0.3)\n",
      "Requirement already satisfied: python-json-logger in /usr/local/lib/python3.8/site-packages (from oasisabm) (2.0.7)\n",
      "Requirement already satisfied: python-dateutil in /usr/local/lib/python3.8/site-packages (from oasisabm) (2.8.2)\n",
      "Requirement already satisfied: scipy in /usr/local/lib/python3.8/site-packages (from oasisabm) (1.10.1)\n",
      "Requirement already satisfied: jsonschema in /usr/local/lib/python3.8/site-packages (from oasisabm) (4.21.1)\n",
      "Requirement already satisfied: seaborn in /usr/local/lib/python3.8/site-packages (from oasisabm) (0.13.2)\n",
      "Requirement already satisfied: geopy in /usr/local/lib/python3.8/site-packages (from oasisabm) (2.4.1)\n",
      "Requirement already satisfied: json5 in /usr/local/lib/python3.8/site-packages (from oasisabm) (0.9.17)\n",
      "Requirement already satisfied: matplotlib in /usr/local/lib/python3.8/site-packages (from oasisabm) (3.7.5)\n",
      "Requirement already satisfied: joblib in /usr/local/lib/python3.8/site-packages (from oasisabm) (1.3.2)\n",
      "Collecting cplex\n",
      "  Downloading cplex-22.1.0.0-cp38-cp38-manylinux1_x86_64.whl (43.3 MB)\n",
      "\u001b[2K     \u001b[90m━━━━━━━━━━━━━━━━━━━━━━━━━━━━━━━━━━━━━━━━\u001b[0m \u001b[32m43.3/43.3 MB\u001b[0m \u001b[31m7.4 MB/s\u001b[0m eta \u001b[36m0:00:00\u001b[0m00:01\u001b[0m00:01\u001b[0m\n",
      "\u001b[?25hCollecting ortools\n",
      "  Downloading ortools-9.8.3296-cp38-cp38-manylinux_2_17_x86_64.manylinux2014_x86_64.whl (22.9 MB)\n",
      "\u001b[2K     \u001b[90m━━━━━━━━━━━━━━━━━━━━━━━━━━━━━━━━━━━━━━━━\u001b[0m \u001b[32m22.9/22.9 MB\u001b[0m \u001b[31m9.2 MB/s\u001b[0m eta \u001b[36m0:00:00\u001b[0m00:01\u001b[0m00:01\u001b[0m\n",
      "\u001b[?25hRequirement already satisfied: docplex in /usr/local/lib/python3.8/site-packages (from oasisabm) (2.25.236)\n",
      "Requirement already satisfied: click in /usr/local/lib/python3.8/site-packages (from oasisabm) (8.1.7)\n",
      "Requirement already satisfied: six in /usr/local/lib/python3.8/site-packages (from docplex->oasisabm) (1.16.0)\n",
      "Requirement already satisfied: geographiclib<3,>=1.52 in /usr/local/lib/python3.8/site-packages (from geopy->oasisabm) (2.0)\n",
      "Requirement already satisfied: jsonschema-specifications>=2023.03.6 in /usr/local/lib/python3.8/site-packages (from jsonschema->oasisabm) (2023.12.1)\n",
      "Requirement already satisfied: attrs>=22.2.0 in /usr/local/lib/python3.8/site-packages (from jsonschema->oasisabm) (23.2.0)\n",
      "Requirement already satisfied: importlib-resources>=1.4.0 in /usr/local/lib/python3.8/site-packages (from jsonschema->oasisabm) (6.1.2)\n",
      "Requirement already satisfied: pkgutil-resolve-name>=1.3.10 in /usr/local/lib/python3.8/site-packages (from jsonschema->oasisabm) (1.3.10)\n",
      "Requirement already satisfied: rpds-py>=0.7.1 in /usr/local/lib/python3.8/site-packages (from jsonschema->oasisabm) (0.18.0)\n",
      "Requirement already satisfied: referencing>=0.28.4 in /usr/local/lib/python3.8/site-packages (from jsonschema->oasisabm) (0.33.0)\n",
      "Requirement already satisfied: packaging>=20.0 in /usr/local/lib/python3.8/site-packages (from matplotlib->oasisabm) (23.2)\n",
      "Requirement already satisfied: fonttools>=4.22.0 in /usr/local/lib/python3.8/site-packages (from matplotlib->oasisabm) (4.49.0)\n",
      "Requirement already satisfied: pyparsing>=2.3.1 in /usr/local/lib/python3.8/site-packages (from matplotlib->oasisabm) (3.1.1)\n",
      "Requirement already satisfied: kiwisolver>=1.0.1 in /usr/local/lib/python3.8/site-packages (from matplotlib->oasisabm) (1.4.5)\n",
      "Requirement already satisfied: cycler>=0.10 in /usr/local/lib/python3.8/site-packages (from matplotlib->oasisabm) (0.12.1)\n",
      "Requirement already satisfied: contourpy>=1.0.1 in /usr/local/lib/python3.8/site-packages (from matplotlib->oasisabm) (1.1.1)\n",
      "Requirement already satisfied: pillow>=6.2.0 in /usr/local/lib/python3.8/site-packages (from matplotlib->oasisabm) (10.2.0)\n",
      "Collecting absl-py>=2.0.0\n",
      "  Downloading absl_py-2.1.0-py3-none-any.whl (133 kB)\n",
      "\u001b[2K     \u001b[90m━━━━━━━━━━━━━━━━━━━━━━━━━━━━━━━━━━━━━━\u001b[0m \u001b[32m133.7/133.7 kB\u001b[0m \u001b[31m31.3 MB/s\u001b[0m eta \u001b[36m0:00:00\u001b[0m\n",
      "\u001b[?25hCollecting protobuf>=4.25.0\n",
      "  Downloading protobuf-4.25.3-cp37-abi3-manylinux2014_x86_64.whl (294 kB)\n",
      "\u001b[2K     \u001b[90m━━━━━━━━━━━━━━━━━━━━━━━━━━━━━━━━━━━━━━\u001b[0m \u001b[32m294.6/294.6 kB\u001b[0m \u001b[31m32.9 MB/s\u001b[0m eta \u001b[36m0:00:00\u001b[0m\n",
      "\u001b[?25hRequirement already satisfied: tzdata>=2022.1 in /usr/local/lib/python3.8/site-packages (from pandas->oasisabm) (2024.1)\n",
      "Requirement already satisfied: pytz>=2020.1 in /usr/local/lib/python3.8/site-packages (from pandas->oasisabm) (2024.1)\n",
      "Requirement already satisfied: zipp>=3.1.0 in /usr/local/lib/python3.8/site-packages (from importlib-resources>=1.4.0->jsonschema->oasisabm) (3.17.0)\n",
      "Installing collected packages: cplex, protobuf, absl-py, ortools, oasisabm\n",
      "Successfully installed absl-py-2.1.0 cplex-22.1.0.0 oasisabm-1.0.0 ortools-9.8.3296 protobuf-4.25.3\n",
      "\u001b[33mWARNING: Running pip as the 'root' user can result in broken permissions and conflicting behaviour with the system package manager. It is recommended to use a virtual environment instead: https://pip.pypa.io/warnings/venv\u001b[0m\u001b[33m\n",
      "\u001b[0m\n",
      "\u001b[1m[\u001b[0m\u001b[34;49mnotice\u001b[0m\u001b[1;39;49m]\u001b[0m\u001b[39;49m A new release of pip is available: \u001b[0m\u001b[31;49m23.0.1\u001b[0m\u001b[39;49m -> \u001b[0m\u001b[32;49m24.0\u001b[0m\n",
      "\u001b[1m[\u001b[0m\u001b[34;49mnotice\u001b[0m\u001b[1;39;49m]\u001b[0m\u001b[39;49m To update, run: \u001b[0m\u001b[32;49mpip install --upgrade pip\u001b[0m\n"
     ]
    }
   ],
   "source": [
    "!pip3 install oasisabm"
   ]
  },
  {
   "cell_type": "code",
   "execution_count": 3,
   "metadata": {
    "ExecuteTime": {
     "end_time": "2023-09-04T16:23:49.948362Z",
     "start_time": "2023-09-04T16:23:47.365240Z"
    }
   },
   "outputs": [
    {
     "name": "stderr",
     "output_type": "stream",
     "text": [
      "/var/folders/30/7ss699gs18bd_cfjwwc7kvd80000gn/T/ipykernel_13634/1765151834.py:2: DeprecationWarning: \n",
      "Pyarrow will become a required dependency of pandas in the next major release of pandas (pandas 3.0),\n",
      "(to allow more performant data types, such as the Arrow string type, and better interoperability with other libraries)\n",
      "but was not found to be installed on your system.\n",
      "If this would cause problems for you,\n",
      "please provide us feedback at https://github.com/pandas-dev/pandas/issues/54466\n",
      "        \n",
      "  import pandas as pd\n"
     ]
    },
    {
     "ename": "ModuleNotFoundError",
     "evalue": "No module named 'oasisabm'",
     "output_type": "error",
     "traceback": [
      "\u001b[0;31m---------------------------------------------------------------------------\u001b[0m",
      "\u001b[0;31mModuleNotFoundError\u001b[0m                       Traceback (most recent call last)",
      "Cell \u001b[0;32mIn[3], line 4\u001b[0m\n\u001b[1;32m      2\u001b[0m \u001b[38;5;28;01mimport\u001b[39;00m \u001b[38;5;21;01mpandas\u001b[39;00m \u001b[38;5;28;01mas\u001b[39;00m \u001b[38;5;21;01mpd\u001b[39;00m\n\u001b[1;32m      3\u001b[0m \u001b[38;5;28;01mimport\u001b[39;00m \u001b[38;5;21;01mnumpy\u001b[39;00m \u001b[38;5;28;01mas\u001b[39;00m \u001b[38;5;21;01mnp\u001b[39;00m\n\u001b[0;32m----> 4\u001b[0m \u001b[38;5;28;01mimport\u001b[39;00m \u001b[38;5;21;01moasisabm\u001b[39;00m \u001b[38;5;28;01mas\u001b[39;00m \u001b[38;5;21;01moa\u001b[39;00m\n\u001b[1;32m      6\u001b[0m \u001b[38;5;28;01mfrom\u001b[39;00m \u001b[38;5;21;01moasisabm\u001b[39;00m\u001b[38;5;21;01m.\u001b[39;00m\u001b[38;5;21;01mestimation\u001b[39;00m \u001b[38;5;28;01mimport\u001b[39;00m ChoiceSetGenerator\n\u001b[1;32m      7\u001b[0m \u001b[38;5;28;01mfrom\u001b[39;00m \u001b[38;5;21;01moasisabm\u001b[39;00m\u001b[38;5;21;01m.\u001b[39;00m\u001b[38;5;21;01mhelper_func\u001b[39;00m \u001b[38;5;28;01mimport\u001b[39;00m parse_df_schedule, schedule_to_pandas\n",
      "\u001b[0;31mModuleNotFoundError\u001b[0m: No module named 'oasisabm'"
     ]
    }
   ],
   "source": [
    "import joblib\n",
    "import pandas as pd\n",
    "import numpy as np\n",
    "import oasisabm as oa\n",
    "\n",
    "from oasisabm.estimation import ChoiceSetGenerator\n",
    "from oasisabm.helper_func import parse_df_schedule, schedule_to_pandas"
   ]
  },
  {
   "cell_type": "markdown",
   "metadata": {},
   "source": [
    "### Preparing the input\n",
    "\n",
    "There are three main inputs that must be provided for the simulation: \n",
    "\n",
    "- The list of schedules, one schedule per individual in the population (``DATA``)\n",
    "- A mode travel time matrix (``TT``)\n",
    "- The set of activity parameters for the target distribution (``PARAMS``)\n",
    "\n"
   ]
  },
  {
   "cell_type": "code",
   "execution_count": 2,
   "metadata": {
    "ExecuteTime": {
     "end_time": "2023-09-04T16:23:51.865259Z",
     "start_time": "2023-09-04T16:23:51.850539Z"
    }
   },
   "outputs": [],
   "source": [
    "DATA = joblib.load('../data/example_data_estimation.joblib')\n",
    "TT = joblib.load('../data/example_tt.joblib')\n",
    "\n",
    "PARAMS = '../data/target_params.joblib'"
   ]
  },
  {
   "cell_type": "markdown",
   "metadata": {},
   "source": [
    "Let's examine ``DATA``. \n",
    "\n",
    "This schedule contains two *work* activities and a *leisure* activities. The set of activities is provided as a ``pandas DataFrame``, and contains the label of the activities (a unique identifier and the activity type), a feasible start and end time (not mandatory, and will default to the full day if not provided), the location of the activity, the mode of transportation and desired start and end times. Note that the location and mode should exist as keys in the travel time matrix.\n",
    "\n",
    "Contrary to the ``simulation`` module, the schedule should be an **observed** schedule, meaning that the columns ``start_time`` and ``duration`` must exist and indicate the actual start time and duration of each activity. "
   ]
  },
  {
   "cell_type": "code",
   "execution_count": 3,
   "metadata": {
    "ExecuteTime": {
     "end_time": "2023-09-04T16:23:54.197917Z",
     "start_time": "2023-09-04T16:23:54.171846Z"
    }
   },
   "outputs": [
    {
     "data": {
      "text/html": [
       "<div>\n",
       "<style scoped>\n",
       "    .dataframe tbody tr th:only-of-type {\n",
       "        vertical-align: middle;\n",
       "    }\n",
       "\n",
       "    .dataframe tbody tr th {\n",
       "        vertical-align: top;\n",
       "    }\n",
       "\n",
       "    .dataframe thead th {\n",
       "        text-align: right;\n",
       "    }\n",
       "</style>\n",
       "<table border=\"1\" class=\"dataframe\">\n",
       "  <thead>\n",
       "    <tr style=\"text-align: right;\">\n",
       "      <th></th>\n",
       "      <th>act_id</th>\n",
       "      <th>act_label</th>\n",
       "      <th>label</th>\n",
       "      <th>feasible_start</th>\n",
       "      <th>feasible_end</th>\n",
       "      <th>location</th>\n",
       "      <th>mode_travel</th>\n",
       "      <th>group</th>\n",
       "      <th>desired_start</th>\n",
       "      <th>desired_duration</th>\n",
       "      <th>start_time</th>\n",
       "      <th>end_time</th>\n",
       "      <th>duration</th>\n",
       "    </tr>\n",
       "  </thead>\n",
       "  <tbody>\n",
       "    <tr>\n",
       "      <th>0</th>\n",
       "      <td>1.0</td>\n",
       "      <td>home</td>\n",
       "      <td>dawn</td>\n",
       "      <td>0</td>\n",
       "      <td>24</td>\n",
       "      <td>A</td>\n",
       "      <td>driving</td>\n",
       "      <td>dawn</td>\n",
       "      <td>0.000000</td>\n",
       "      <td>12.940332</td>\n",
       "      <td>0.000000</td>\n",
       "      <td>9.500000</td>\n",
       "      <td>9.500000</td>\n",
       "    </tr>\n",
       "    <tr>\n",
       "      <th>1</th>\n",
       "      <td>2.0</td>\n",
       "      <td>work</td>\n",
       "      <td>work1</td>\n",
       "      <td>5</td>\n",
       "      <td>23</td>\n",
       "      <td>B</td>\n",
       "      <td>driving</td>\n",
       "      <td>work</td>\n",
       "      <td>6.602686</td>\n",
       "      <td>10.470977</td>\n",
       "      <td>9.533333</td>\n",
       "      <td>13.500000</td>\n",
       "      <td>3.966667</td>\n",
       "    </tr>\n",
       "    <tr>\n",
       "      <th>2</th>\n",
       "      <td>1.0</td>\n",
       "      <td>home</td>\n",
       "      <td>home</td>\n",
       "      <td>0</td>\n",
       "      <td>24</td>\n",
       "      <td>A</td>\n",
       "      <td>driving</td>\n",
       "      <td>home</td>\n",
       "      <td>0.000000</td>\n",
       "      <td>12.940332</td>\n",
       "      <td>13.533333</td>\n",
       "      <td>15.166667</td>\n",
       "      <td>1.633333</td>\n",
       "    </tr>\n",
       "    <tr>\n",
       "      <th>3</th>\n",
       "      <td>2.0</td>\n",
       "      <td>work</td>\n",
       "      <td>work2</td>\n",
       "      <td>5</td>\n",
       "      <td>23</td>\n",
       "      <td>B</td>\n",
       "      <td>driving</td>\n",
       "      <td>work</td>\n",
       "      <td>6.602686</td>\n",
       "      <td>10.470977</td>\n",
       "      <td>15.200000</td>\n",
       "      <td>20.000000</td>\n",
       "      <td>4.800000</td>\n",
       "    </tr>\n",
       "    <tr>\n",
       "      <th>4</th>\n",
       "      <td>8.0</td>\n",
       "      <td>leisure</td>\n",
       "      <td>leisure</td>\n",
       "      <td>0</td>\n",
       "      <td>24</td>\n",
       "      <td>B</td>\n",
       "      <td>driving</td>\n",
       "      <td>leisure</td>\n",
       "      <td>16.005231</td>\n",
       "      <td>3.380537</td>\n",
       "      <td>20.466667</td>\n",
       "      <td>20.466667</td>\n",
       "      <td>0.000000</td>\n",
       "    </tr>\n",
       "    <tr>\n",
       "      <th>5</th>\n",
       "      <td>1.0</td>\n",
       "      <td>home</td>\n",
       "      <td>dusk</td>\n",
       "      <td>0</td>\n",
       "      <td>24</td>\n",
       "      <td>A</td>\n",
       "      <td>driving</td>\n",
       "      <td>dusk</td>\n",
       "      <td>0.000000</td>\n",
       "      <td>12.940332</td>\n",
       "      <td>20.500000</td>\n",
       "      <td>24.000000</td>\n",
       "      <td>3.500000</td>\n",
       "    </tr>\n",
       "  </tbody>\n",
       "</table>\n",
       "</div>"
      ],
      "text/plain": [
       "   act_id act_label    label  feasible_start  feasible_end location  \\\n",
       "0     1.0      home     dawn               0            24        A   \n",
       "1     2.0      work    work1               5            23        B   \n",
       "2     1.0      home     home               0            24        A   \n",
       "3     2.0      work    work2               5            23        B   \n",
       "4     8.0   leisure  leisure               0            24        B   \n",
       "5     1.0      home     dusk               0            24        A   \n",
       "\n",
       "  mode_travel    group  desired_start  desired_duration  start_time  \\\n",
       "0     driving     dawn       0.000000         12.940332    0.000000   \n",
       "1     driving     work       6.602686         10.470977    9.533333   \n",
       "2     driving     home       0.000000         12.940332   13.533333   \n",
       "3     driving     work       6.602686         10.470977   15.200000   \n",
       "4     driving  leisure      16.005231          3.380537   20.466667   \n",
       "5     driving     dusk       0.000000         12.940332   20.500000   \n",
       "\n",
       "    end_time  duration  \n",
       "0   9.500000  9.500000  \n",
       "1  13.500000  3.966667  \n",
       "2  15.166667  1.633333  \n",
       "3  20.000000  4.800000  \n",
       "4  20.466667  0.000000  \n",
       "5  24.000000  3.500000  "
      ]
     },
     "execution_count": 3,
     "metadata": {},
     "output_type": "execute_result"
    }
   ],
   "source": [
    "DATA"
   ]
  },
  {
   "cell_type": "markdown",
   "metadata": {
    "ExecuteTime": {
     "end_time": "2023-09-04T16:18:06.623418Z",
     "start_time": "2023-09-04T16:18:06.608742Z"
    }
   },
   "source": [
    "The travel time matrix is a dictionary formatted as:\n",
    "\n",
    "``{mode: {\n",
    "origin_location: {\n",
    "destination_location1 : travel_time_1,\n",
    "destination_location2 : travel_time_2\n",
    "}}}``\n",
    "\n",
    "The travel time is in hours. In this example, we consider the travel times for the *driving* mode and two different locations.\n",
    "\n"
   ]
  },
  {
   "cell_type": "code",
   "execution_count": 4,
   "metadata": {
    "ExecuteTime": {
     "end_time": "2023-09-04T16:23:57.913022Z",
     "start_time": "2023-09-04T16:23:57.907814Z"
    }
   },
   "outputs": [
    {
     "data": {
      "text/plain": [
       "{'driving': {'A': {'A': 0, 'B': 0.0002777777777777778},\n",
       "  'B': {'A': 0.0002777777777777778, 'B': 0}}}"
      ]
     },
     "execution_count": 4,
     "metadata": {},
     "output_type": "execute_result"
    }
   ],
   "source": [
    "TT"
   ]
  },
  {
   "cell_type": "markdown",
   "metadata": {},
   "source": [
    "To proceed with the estimation, we transform the ``DataFrame`` schedule into a ``Schedule`` object. We can do this using the ``parse_df_schedule`` function. The ``Schedule`` class stores information on the activities in the schedule, which are themselves ``Activity`` objects (storing timings, locations, modes), as well as specific functions that will be helpful during the random walk. For example, the ``streamline()`` function makes sure to restore validity conditions (e.g. 24h time budget, start and end at home) after a change has been applied by an operator."
   ]
  },
  {
   "cell_type": "code",
   "execution_count": 5,
   "metadata": {
    "ExecuteTime": {
     "end_time": "2023-09-04T16:24:00.717653Z",
     "start_time": "2023-09-04T16:24:00.712970Z"
    }
   },
   "outputs": [],
   "source": [
    "DATA = [parse_df_schedule(DATA, TT)]"
   ]
  },
  {
   "cell_type": "code",
   "execution_count": 6,
   "metadata": {
    "ExecuteTime": {
     "end_time": "2023-09-04T16:24:34.473481Z",
     "start_time": "2023-09-04T16:24:34.469627Z"
    }
   },
   "outputs": [
    {
     "name": "stdout",
     "output_type": "stream",
     "text": [
      "<class 'activity.Schedule'>\n"
     ]
    }
   ],
   "source": [
    "print(type(DATA[0]))"
   ]
  },
  {
   "cell_type": "code",
   "execution_count": 7,
   "metadata": {
    "ExecuteTime": {
     "end_time": "2023-09-04T16:24:55.979869Z",
     "start_time": "2023-09-04T16:24:55.975803Z"
    }
   },
   "outputs": [
    {
     "name": "stdout",
     "output_type": "stream",
     "text": [
      "home: start time 0.0, duration 9.5 h, location A\n",
      "work: start time 9.533333333333331, duration 3.966666666666667 h, location B\n",
      "home: start time 13.533333333333331, duration 1.6333333333333329 h, location A\n",
      "work: start time 15.2, duration 4.800000000000001 h, location B\n",
      "leisure: start time 20.466666666666665, duration 0.0 h, location B\n",
      "home: start time 20.5, duration 3.5 h, location A\n"
     ]
    }
   ],
   "source": [
    "for activity in DATA[0].list_act:\n",
    "    print(activity)"
   ]
  },
  {
   "cell_type": "markdown",
   "metadata": {},
   "source": [
    "### Setting up the estimator\n",
    "\n",
    "We create a new ``ChoiceSetGenerator``, to generate a choice set of ``n_alt = 5`` alternatives. We specify additional parameters for the Metropolis-Hastings algorithm, such as the number of iterations, the number of iterations for warm-up, and thinning. Note that these parameters can also be provided directly in the ``settings.py`` file. This file includes for example default parameters for operators and activities (probabilities)."
   ]
  },
  {
   "cell_type": "code",
   "execution_count": 34,
   "metadata": {
    "ExecuteTime": {
     "end_time": "2023-09-03T22:05:30.964945Z",
     "start_time": "2023-09-03T22:05:30.961686Z"
    }
   },
   "outputs": [],
   "source": [
    "mh_params = {\"n_iter\":1000,\n",
    "\"n_burn\": 50,\n",
    " \"n_skip\": 1,\n",
    " \"uniform\": False,\n",
    "}\n"
   ]
  },
  {
   "cell_type": "code",
   "execution_count": 35,
   "metadata": {
    "ExecuteTime": {
     "end_time": "2023-09-03T22:05:35.120648Z",
     "start_time": "2023-09-03T22:05:35.098894Z"
    }
   },
   "outputs": [],
   "source": [
    "estimator = ChoiceSetGenerator(DATA, PARAMS, n_alt = 5, mh_params=mh_params)"
   ]
  },
  {
   "cell_type": "markdown",
   "metadata": {},
   "source": [
    "### Running and handling results\n",
    "\n",
    "The ``run()`` function is called to run the Metropolis-Hastings algorithm. For large samples and number of iterations, we recommend parallelising the code using the ``run_parallel()``function instead.\n",
    "\n",
    "We plot a few draws using the ``output`` function with the ``plot`` argument. Note that for each choice set, the first schedule is the chosen one."
   ]
  },
  {
   "cell_type": "code",
   "execution_count": 36,
   "metadata": {
    "ExecuteTime": {
     "end_time": "2023-09-03T22:05:36.819053Z",
     "start_time": "2023-09-03T22:05:36.209805Z"
    },
    "scrolled": false
   },
   "outputs": [
    {
     "name": "stdout",
     "output_type": "stream",
     "text": [
      "Starting generation for individual 0.\n",
      "\n"
     ]
    },
    {
     "name": "stderr",
     "output_type": "stream",
     "text": [
      "/Users/janodypougala/Desktop/PHD/OASIS/oasis_dev/estimation/metropolis_hastings.py:74: RuntimeWarning: divide by zero encountered in log\n",
      "  ratio = min(np.log(abs(new_weight)) - np.log(abs(current_weight)) + np.log(b_proba) - np.log(f_proba), 0)\n",
      "/Users/janodypougala/Desktop/PHD/OASIS/oasis_dev/estimation/metropolis_hastings.py:74: RuntimeWarning: invalid value encountered in log\n",
      "  ratio = min(np.log(abs(new_weight)) - np.log(abs(current_weight)) + np.log(b_proba) - np.log(f_proba), 0)\n"
     ]
    },
    {
     "name": "stdout",
     "output_type": "stream",
     "text": [
      "Total runtime: 0:00:00.480029\n"
     ]
    }
   ],
   "source": [
    "estimator.run()"
   ]
  },
  {
   "cell_type": "code",
   "execution_count": 39,
   "metadata": {
    "ExecuteTime": {
     "end_time": "2023-09-03T22:05:57.864285Z",
     "start_time": "2023-09-03T22:05:57.831120Z"
    }
   },
   "outputs": [
    {
     "data": {
      "text/plain": [
       "19"
      ]
     },
     "execution_count": 39,
     "metadata": {},
     "output_type": "execute_result"
    }
   ],
   "source": [
    "unique_draws =[[item for idx, item in enumerate(choice_set) if item not in choice_set[:idx]] for choice_set in estimator.choice_sets]\n",
    "\n",
    "len(unique_draws[0])"
   ]
  },
  {
   "cell_type": "code",
   "execution_count": 42,
   "metadata": {
    "ExecuteTime": {
     "end_time": "2023-09-03T22:06:32.648244Z",
     "start_time": "2023-09-03T22:06:31.478581Z"
    }
   },
   "outputs": [
    {
     "data": {
      "image/png": "[encoded data removed]",
      "text/plain": [
       "<Figure size 2000x300 with 1 Axes>"
      ]
     },
     "metadata": {},
     "output_type": "display_data"
    },
    {
     "data": {
      "image/png": "[encoded data removed]",
      "text/plain": [
       "<Figure size 2000x300 with 1 Axes>"
      ]
     },
     "metadata": {},
     "output_type": "display_data"
    },
    {
     "data": {
      "image/png": "[encoded data removed]",
      "text/plain": [
       "<Figure size 2000x300 with 1 Axes>"
      ]
     },
     "metadata": {},
     "output_type": "display_data"
    },
    {
     "data": {
      "image/png": "[encoded data removed]",
      "text/plain": [
       "<Figure size 2000x300 with 1 Axes>"
      ]
     },
     "metadata": {},
     "output_type": "display_data"
    },
    {
     "data": {
      "image/png": "[encoded data removed]",
      "text/plain": [
       "<Figure size 2000x300 with 1 Axes>"
      ]
     },
     "metadata": {},
     "output_type": "display_data"
    }
   ],
   "source": [
    "for c in unique_draws[0][:5]:\n",
    "    c.output(plot=True)"
   ]
  },
  {
   "cell_type": "markdown",
   "metadata": {},
   "source": [
    "We can use the function ``train_test_sets()`` to create train and test datasets for the estimation. By default, this function splits the observations to have 70% of individuals in the train set and 30% for testing. This function also computes the sample probability to correct the choice probabilities and likelihood function (see Ben-Akiva & Lerman, 1985):\n",
    "\n",
    "$$P_{in} = P_n(i | \\hat{C}_n) =  \\frac{e^{\\mu V_{in} + \\mathbf{\\ln P_n(\\hat{C}_n | i)}}}{\\sum_{j\\in \\hat{C}_n} e^{\\mu V_{jn} + \\mathbf{\\ln P_n(\\hat{C}_n | j)}}}$$"
   ]
  },
  {
   "cell_type": "code",
   "execution_count": 45,
   "metadata": {
    "ExecuteTime": {
     "end_time": "2023-09-03T22:07:36.041853Z",
     "start_time": "2023-09-03T22:07:35.868163Z"
    }
   },
   "outputs": [],
   "source": [
    "train_wide, train_long, test = estimator.train_test_sets()"
   ]
  },
  {
   "cell_type": "code",
   "execution_count": 46,
   "metadata": {
    "ExecuteTime": {
     "end_time": "2023-09-03T22:07:42.281753Z",
     "start_time": "2023-09-03T22:07:42.260146Z"
    }
   },
   "outputs": [
    {
     "data": {
      "text/html": [
       "<div>\n",
       "<style scoped>\n",
       "    .dataframe tbody tr th:only-of-type {\n",
       "        vertical-align: middle;\n",
       "    }\n",
       "\n",
       "    .dataframe tbody tr th {\n",
       "        vertical-align: top;\n",
       "    }\n",
       "\n",
       "    .dataframe thead th {\n",
       "        text-align: right;\n",
       "    }\n",
       "</style>\n",
       "<table border=\"1\" class=\"dataframe\">\n",
       "  <thead>\n",
       "    <tr style=\"text-align: right;\">\n",
       "      <th></th>\n",
       "      <th>obs_id</th>\n",
       "      <th>alt_id</th>\n",
       "      <th>choice</th>\n",
       "      <th>prob_corr</th>\n",
       "      <th>home:start_time</th>\n",
       "      <th>home:duration</th>\n",
       "      <th>home:participation</th>\n",
       "      <th>work:start_time</th>\n",
       "      <th>work:duration</th>\n",
       "      <th>work:participation</th>\n",
       "      <th>...</th>\n",
       "      <th>business_trip:short</th>\n",
       "      <th>business_trip:long</th>\n",
       "      <th>leisure:early</th>\n",
       "      <th>leisure:late</th>\n",
       "      <th>leisure:short</th>\n",
       "      <th>leisure:long</th>\n",
       "      <th>escort:early</th>\n",
       "      <th>escort:late</th>\n",
       "      <th>escort:short</th>\n",
       "      <th>escort:long</th>\n",
       "    </tr>\n",
       "  </thead>\n",
       "  <tbody>\n",
       "    <tr>\n",
       "      <th>0</th>\n",
       "      <td>0</td>\n",
       "      <td>0</td>\n",
       "      <td>1.0</td>\n",
       "      <td>868.954605</td>\n",
       "      <td>0.0</td>\n",
       "      <td>14.699444</td>\n",
       "      <td>1</td>\n",
       "      <td>9.500278</td>\n",
       "      <td>8.832778</td>\n",
       "      <td>1</td>\n",
       "      <td>...</td>\n",
       "      <td>0.0</td>\n",
       "      <td>0.0</td>\n",
       "      <td>0.000000</td>\n",
       "      <td>8.0</td>\n",
       "      <td>0.533333</td>\n",
       "      <td>0.000000</td>\n",
       "      <td>0.0</td>\n",
       "      <td>0.0</td>\n",
       "      <td>0.0</td>\n",
       "      <td>0.0</td>\n",
       "    </tr>\n",
       "    <tr>\n",
       "      <th>1</th>\n",
       "      <td>0</td>\n",
       "      <td>0</td>\n",
       "      <td>1.0</td>\n",
       "      <td>868.954605</td>\n",
       "      <td>0.0</td>\n",
       "      <td>14.699444</td>\n",
       "      <td>1</td>\n",
       "      <td>9.500278</td>\n",
       "      <td>8.832778</td>\n",
       "      <td>1</td>\n",
       "      <td>...</td>\n",
       "      <td>0.0</td>\n",
       "      <td>0.0</td>\n",
       "      <td>0.000000</td>\n",
       "      <td>8.0</td>\n",
       "      <td>0.533333</td>\n",
       "      <td>0.000000</td>\n",
       "      <td>0.0</td>\n",
       "      <td>0.0</td>\n",
       "      <td>0.0</td>\n",
       "      <td>0.0</td>\n",
       "    </tr>\n",
       "    <tr>\n",
       "      <th>2</th>\n",
       "      <td>0</td>\n",
       "      <td>1</td>\n",
       "      <td>1.0</td>\n",
       "      <td>870.149372</td>\n",
       "      <td>0.0</td>\n",
       "      <td>8.936165</td>\n",
       "      <td>1</td>\n",
       "      <td>8.659382</td>\n",
       "      <td>15.063280</td>\n",
       "      <td>1</td>\n",
       "      <td>...</td>\n",
       "      <td>0.0</td>\n",
       "      <td>0.0</td>\n",
       "      <td>0.000000</td>\n",
       "      <td>0.0</td>\n",
       "      <td>0.000000</td>\n",
       "      <td>0.000000</td>\n",
       "      <td>0.0</td>\n",
       "      <td>0.0</td>\n",
       "      <td>0.0</td>\n",
       "      <td>0.0</td>\n",
       "    </tr>\n",
       "    <tr>\n",
       "      <th>3</th>\n",
       "      <td>0</td>\n",
       "      <td>2</td>\n",
       "      <td>1.0</td>\n",
       "      <td>870.753124</td>\n",
       "      <td>0.0</td>\n",
       "      <td>8.659104</td>\n",
       "      <td>1</td>\n",
       "      <td>8.659382</td>\n",
       "      <td>3.299849</td>\n",
       "      <td>1</td>\n",
       "      <td>...</td>\n",
       "      <td>0.0</td>\n",
       "      <td>0.0</td>\n",
       "      <td>0.040491</td>\n",
       "      <td>0.0</td>\n",
       "      <td>0.000000</td>\n",
       "      <td>11.263152</td>\n",
       "      <td>0.0</td>\n",
       "      <td>0.0</td>\n",
       "      <td>0.0</td>\n",
       "      <td>0.0</td>\n",
       "    </tr>\n",
       "    <tr>\n",
       "      <th>4</th>\n",
       "      <td>0</td>\n",
       "      <td>3</td>\n",
       "      <td>1.0</td>\n",
       "      <td>869.954605</td>\n",
       "      <td>0.0</td>\n",
       "      <td>9.500000</td>\n",
       "      <td>1</td>\n",
       "      <td>9.500278</td>\n",
       "      <td>14.499722</td>\n",
       "      <td>1</td>\n",
       "      <td>...</td>\n",
       "      <td>0.0</td>\n",
       "      <td>0.0</td>\n",
       "      <td>0.000000</td>\n",
       "      <td>0.0</td>\n",
       "      <td>0.000000</td>\n",
       "      <td>0.000000</td>\n",
       "      <td>0.0</td>\n",
       "      <td>0.0</td>\n",
       "      <td>0.0</td>\n",
       "      <td>0.0</td>\n",
       "    </tr>\n",
       "    <tr>\n",
       "      <th>5</th>\n",
       "      <td>0</td>\n",
       "      <td>4</td>\n",
       "      <td>1.0</td>\n",
       "      <td>870.272664</td>\n",
       "      <td>0.0</td>\n",
       "      <td>8.659104</td>\n",
       "      <td>1</td>\n",
       "      <td>8.659382</td>\n",
       "      <td>15.340618</td>\n",
       "      <td>1</td>\n",
       "      <td>...</td>\n",
       "      <td>0.0</td>\n",
       "      <td>0.0</td>\n",
       "      <td>0.000000</td>\n",
       "      <td>0.0</td>\n",
       "      <td>0.000000</td>\n",
       "      <td>0.000000</td>\n",
       "      <td>0.0</td>\n",
       "      <td>0.0</td>\n",
       "      <td>0.0</td>\n",
       "      <td>0.0</td>\n",
       "    </tr>\n",
       "  </tbody>\n",
       "</table>\n",
       "<p>6 rows × 60 columns</p>\n",
       "</div>"
      ],
      "text/plain": [
       "   obs_id  alt_id  choice   prob_corr  home:start_time  home:duration  \\\n",
       "0       0       0     1.0  868.954605              0.0      14.699444   \n",
       "1       0       0     1.0  868.954605              0.0      14.699444   \n",
       "2       0       1     1.0  870.149372              0.0       8.936165   \n",
       "3       0       2     1.0  870.753124              0.0       8.659104   \n",
       "4       0       3     1.0  869.954605              0.0       9.500000   \n",
       "5       0       4     1.0  870.272664              0.0       8.659104   \n",
       "\n",
       "   home:participation  work:start_time  work:duration  work:participation  \\\n",
       "0                   1         9.500278       8.832778                   1   \n",
       "1                   1         9.500278       8.832778                   1   \n",
       "2                   1         8.659382      15.063280                   1   \n",
       "3                   1         8.659382       3.299849                   1   \n",
       "4                   1         9.500278      14.499722                   1   \n",
       "5                   1         8.659382      15.340618                   1   \n",
       "\n",
       "   ...  business_trip:short  business_trip:long  leisure:early  leisure:late  \\\n",
       "0  ...                  0.0                 0.0       0.000000           8.0   \n",
       "1  ...                  0.0                 0.0       0.000000           8.0   \n",
       "2  ...                  0.0                 0.0       0.000000           0.0   \n",
       "3  ...                  0.0                 0.0       0.040491           0.0   \n",
       "4  ...                  0.0                 0.0       0.000000           0.0   \n",
       "5  ...                  0.0                 0.0       0.000000           0.0   \n",
       "\n",
       "   leisure:short  leisure:long  escort:early  escort:late  escort:short  \\\n",
       "0       0.533333      0.000000           0.0          0.0           0.0   \n",
       "1       0.533333      0.000000           0.0          0.0           0.0   \n",
       "2       0.000000      0.000000           0.0          0.0           0.0   \n",
       "3       0.000000     11.263152           0.0          0.0           0.0   \n",
       "4       0.000000      0.000000           0.0          0.0           0.0   \n",
       "5       0.000000      0.000000           0.0          0.0           0.0   \n",
       "\n",
       "   escort:long  \n",
       "0          0.0  \n",
       "1          0.0  \n",
       "2          0.0  \n",
       "3          0.0  \n",
       "4          0.0  \n",
       "5          0.0  \n",
       "\n",
       "[6 rows x 60 columns]"
      ]
     },
     "execution_count": 46,
     "metadata": {},
     "output_type": "execute_result"
    }
   ],
   "source": [
    "train_long"
   ]
  },
  {
   "cell_type": "code",
   "execution_count": 48,
   "metadata": {
    "ExecuteTime": {
     "end_time": "2023-09-03T22:08:18.771008Z",
     "start_time": "2023-09-03T22:08:18.750389Z"
    }
   },
   "outputs": [
    {
     "data": {
      "text/html": [
       "<div>\n",
       "<style scoped>\n",
       "    .dataframe tbody tr th:only-of-type {\n",
       "        vertical-align: middle;\n",
       "    }\n",
       "\n",
       "    .dataframe tbody tr th {\n",
       "        vertical-align: top;\n",
       "    }\n",
       "\n",
       "    .dataframe thead th {\n",
       "        text-align: right;\n",
       "    }\n",
       "</style>\n",
       "<table border=\"1\" class=\"dataframe\">\n",
       "  <thead>\n",
       "    <tr style=\"text-align: right;\">\n",
       "      <th></th>\n",
       "      <th>obs_id</th>\n",
       "      <th>choice</th>\n",
       "      <th>prob_corr_0</th>\n",
       "      <th>home:start_time_0</th>\n",
       "      <th>home:duration_0</th>\n",
       "      <th>home:participation_0</th>\n",
       "      <th>work:start_time_0</th>\n",
       "      <th>work:duration_0</th>\n",
       "      <th>work:participation_0</th>\n",
       "      <th>education:start_time_0</th>\n",
       "      <th>...</th>\n",
       "      <th>business_trip:short_4</th>\n",
       "      <th>business_trip:long_4</th>\n",
       "      <th>leisure:early_4</th>\n",
       "      <th>leisure:late_4</th>\n",
       "      <th>leisure:short_4</th>\n",
       "      <th>leisure:long_4</th>\n",
       "      <th>escort:early_4</th>\n",
       "      <th>escort:late_4</th>\n",
       "      <th>escort:short_4</th>\n",
       "      <th>escort:long_4</th>\n",
       "    </tr>\n",
       "  </thead>\n",
       "  <tbody>\n",
       "    <tr>\n",
       "      <th>0</th>\n",
       "      <td>0</td>\n",
       "      <td>0</td>\n",
       "      <td>868.954605</td>\n",
       "      <td>0.0</td>\n",
       "      <td>14.699444</td>\n",
       "      <td>1</td>\n",
       "      <td>9.500278</td>\n",
       "      <td>8.832778</td>\n",
       "      <td>1</td>\n",
       "      <td>0.0</td>\n",
       "      <td>...</td>\n",
       "      <td>0.0</td>\n",
       "      <td>0.0</td>\n",
       "      <td>0.0</td>\n",
       "      <td>0.0</td>\n",
       "      <td>0.0</td>\n",
       "      <td>0.0</td>\n",
       "      <td>0.0</td>\n",
       "      <td>0.0</td>\n",
       "      <td>0.0</td>\n",
       "      <td>0.0</td>\n",
       "    </tr>\n",
       "    <tr>\n",
       "      <th>1</th>\n",
       "      <td>0</td>\n",
       "      <td>0</td>\n",
       "      <td>868.954605</td>\n",
       "      <td>0.0</td>\n",
       "      <td>14.699444</td>\n",
       "      <td>1</td>\n",
       "      <td>9.500278</td>\n",
       "      <td>8.832778</td>\n",
       "      <td>1</td>\n",
       "      <td>0.0</td>\n",
       "      <td>...</td>\n",
       "      <td>0.0</td>\n",
       "      <td>0.0</td>\n",
       "      <td>0.0</td>\n",
       "      <td>0.0</td>\n",
       "      <td>0.0</td>\n",
       "      <td>0.0</td>\n",
       "      <td>0.0</td>\n",
       "      <td>0.0</td>\n",
       "      <td>0.0</td>\n",
       "      <td>0.0</td>\n",
       "    </tr>\n",
       "  </tbody>\n",
       "</table>\n",
       "<p>2 rows × 287 columns</p>\n",
       "</div>"
      ],
      "text/plain": [
       "   obs_id  choice  prob_corr_0  home:start_time_0  home:duration_0  \\\n",
       "0       0       0   868.954605                0.0        14.699444   \n",
       "1       0       0   868.954605                0.0        14.699444   \n",
       "\n",
       "   home:participation_0  work:start_time_0  work:duration_0  \\\n",
       "0                     1           9.500278         8.832778   \n",
       "1                     1           9.500278         8.832778   \n",
       "\n",
       "   work:participation_0  education:start_time_0  ...  business_trip:short_4  \\\n",
       "0                     1                     0.0  ...                    0.0   \n",
       "1                     1                     0.0  ...                    0.0   \n",
       "\n",
       "   business_trip:long_4  leisure:early_4  leisure:late_4  leisure:short_4  \\\n",
       "0                   0.0              0.0             0.0              0.0   \n",
       "1                   0.0              0.0             0.0              0.0   \n",
       "\n",
       "   leisure:long_4  escort:early_4  escort:late_4  escort:short_4  \\\n",
       "0             0.0             0.0            0.0             0.0   \n",
       "1             0.0             0.0            0.0             0.0   \n",
       "\n",
       "   escort:long_4  \n",
       "0            0.0  \n",
       "1            0.0  \n",
       "\n",
       "[2 rows x 287 columns]"
      ]
     },
     "execution_count": 48,
     "metadata": {},
     "output_type": "execute_result"
    }
   ],
   "source": [
    "train_wide"
   ]
  },
  {
   "cell_type": "code",
   "execution_count": 49,
   "metadata": {
    "ExecuteTime": {
     "end_time": "2023-09-03T22:09:21.763389Z",
     "start_time": "2023-09-03T22:09:21.600311Z"
    }
   },
   "outputs": [
    {
     "data": {
      "text/plain": [
       "['estimator_example.joblib']"
      ]
     },
     "execution_count": 49,
     "metadata": {},
     "output_type": "execute_result"
    }
   ],
   "source": [
    "joblib.dump(estimator, 'estimator_example.joblib')"
   ]
  },
  {
   "cell_type": "code",
   "execution_count": null,
   "metadata": {},
   "outputs": [],
   "source": []
  }
 ],
 "metadata": {
  "kernelspec": {
   "display_name": "Python 3",
   "language": "python",
   "name": "python3"
  },
  "language_info": {
   "codemirror_mode": {
    "name": "ipython",
    "version": 3
   },
   "file_extension": ".py",
   "mimetype": "text/x-python",
   "name": "python",
   "nbconvert_exporter": "python",
   "pygments_lexer": "ipython3",
   "version": "3.8.18"
  },
  "toc": {
   "base_numbering": 1,
   "nav_menu": {},
   "number_sections": true,
   "sideBar": true,
   "skip_h1_title": false,
   "title_cell": "Table of Contents",
   "title_sidebar": "Contents",
   "toc_cell": false,
   "toc_position": {},
   "toc_section_display": true,
   "toc_window_display": false
  }
 },
 "nbformat": 4,
 "nbformat_minor": 4
}
