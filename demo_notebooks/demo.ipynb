{
 "cells": [
  {
   "cell_type": "markdown",
   "metadata": {},
   "source": [
    "## OASIS - Demonstration notebook - Single day simulation\n",
    "*V1.0.0 August 2023*\n",
    "\n",
    "This notebook walks through a simulation run using OASIS. The simulator takes as input a set of activities to be scheduled, travel times and utility parameters and outputs optimised schedules. \n",
    "\n",
    "Note that this notebook requires the [docplex library](https://pypi.org/project/docplex/) with a valid [CPLEX license](https://www.ibm.com/docs/en/icos/20.1.0?topic=cplex-setting-up-python-api) to run. \n",
    "\n",
    "You can find the full documentation [here](https://oasis-abm.readthedocs.io/en/latest/), and the companion paper [here](https://www.sciencedirect.com/science/article/pii/S0968090X23002802#d1e7373).\n",
    "\n",
    "\n",
    "### Main files\n",
    "\n",
    "The following files are used for the simulation.\n",
    "\n",
    "- ``simulation.py``: This script stores information on the ``Simulation`` class and subclasses (e.g.``MIP``). These classes are used to set up and solve the optimisation problem.\n",
    "- ``results.py``: The ``Results`` class stores the outputs of the simulation (optimised schedules, runtimes, and objective functions), and handles the visualisation and simulation statistics.\n",
    "- ``input_data.py``: This script handles the input data, and creates ``ActivityData`` objects. These objects contain information on each activity to be scheduled, including preferred start time, duration, and utility parameters.\n",
    "- ``error_terms.py``: The ``ErrorTerms`` class is used to handle the utility function errors -- to be drawn at each new iterations.\n",
    "- ``runner.py``: The main file to run the simulation.\n",
    "\n",
    "In addition, we have provided a small example to illustrate the implemented functions. They are stored in the ``data/`` folder.\n"
   ]
  },
  {
   "cell_type": "code",
   "execution_count": 1,
   "metadata": {
    "ExecuteTime": {
     "end_time": "2023-08-27T16:23:45.832523Z",
     "start_time": "2023-08-27T16:23:43.281206Z"
    }
   },
   "outputs": [],
   "source": [
    "import math\n",
    "import shutil\n",
    "import joblib\n",
    "import json\n",
    "import pandas as pd\n",
    "import oasisabm as as\n",
    "\n",

    "from oa.input_data import data_reader\n",
    "from oa.error_terms import GaussianError, EVError\n",
    "from oa.simulation import MIP\n"
   ]
  },
  {
   "cell_type": "markdown",
   "metadata": {},
   "source": [
    "### Preparing the input\n",
    "\n",
    "There are three main inputs that must be provided for the simulation: \n",
    "\n",
    "- The set of activities (``DATA``)\n",
    "- A mode travel time matrix (``TT``)\n",
    "- The set of activity parameters (``PARAMS``)\n"
   ]
  },
  {
   "cell_type": "code",
   "execution_count": 2,
   "metadata": {
    "ExecuteTime": {
     "end_time": "2023-08-27T16:23:48.452680Z",
     "start_time": "2023-08-27T16:23:48.444686Z"
    }
   },
   "outputs": [],
   "source": [
    "DATA = joblib.load('data/example_data.joblib')\n",
    "TT = joblib.load('data/example_tt.joblib')\n",
    "PARAMS = json.load(open('data/example_parameters.json', 'r'))"
   ]
  },
  {
   "cell_type": "markdown",
   "metadata": {},
   "source": [
    "Let's examine ``DATA``. \n",
    "\n",
    "This schedule contains two *work* activities and a *leisure* activities. The set of activities is provided as a ``pandas DataFrame``, and contains the label of the activities (a unique identifier and the activity type), a feasible start and end time (not mandatory, and will default to the full day if not provided), the location of the activity, the mode of transportation and desired start and end times. Note that the location and mode should exist as keys in the travel time matrix."
   ]
  },
  {
   "cell_type": "code",
   "execution_count": 3,
   "metadata": {
    "ExecuteTime": {
     "end_time": "2023-08-27T16:23:51.432877Z",
     "start_time": "2023-08-27T16:23:51.408096Z"
    }
   },
   "outputs": [
    {
     "data": {
      "text/html": [
       "<div>\n",
       "<style scoped>\n",
       "    .dataframe tbody tr th:only-of-type {\n",
       "        vertical-align: middle;\n",
       "    }\n",
       "\n",
       "    .dataframe tbody tr th {\n",
       "        vertical-align: top;\n",
       "    }\n",
       "\n",
       "    .dataframe thead th {\n",
       "        text-align: right;\n",
       "    }\n",
       "</style>\n",
       "<table border=\"1\" class=\"dataframe\">\n",
       "  <thead>\n",
       "    <tr style=\"text-align: right;\">\n",
       "      <th></th>\n",
       "      <th>act_id</th>\n",
       "      <th>act_label</th>\n",
       "      <th>label</th>\n",
       "      <th>feasible_start</th>\n",
       "      <th>feasible_end</th>\n",
       "      <th>location</th>\n",
       "      <th>mode_travel</th>\n",
       "      <th>group</th>\n",
       "      <th>desired_start</th>\n",
       "      <th>desired_duration</th>\n",
       "    </tr>\n",
       "  </thead>\n",
       "  <tbody>\n",
       "    <tr>\n",
       "      <th>0</th>\n",
       "      <td>1.0</td>\n",
       "      <td>home</td>\n",
       "      <td>dawn</td>\n",
       "      <td>0</td>\n",
       "      <td>24</td>\n",
       "      <td>A</td>\n",
       "      <td>driving</td>\n",
       "      <td>dawn</td>\n",
       "      <td>0.000000</td>\n",
       "      <td>12.940332</td>\n",
       "    </tr>\n",
       "    <tr>\n",
       "      <th>1</th>\n",
       "      <td>2.0</td>\n",
       "      <td>work</td>\n",
       "      <td>work1</td>\n",
       "      <td>5</td>\n",
       "      <td>23</td>\n",
       "      <td>B</td>\n",
       "      <td>driving</td>\n",
       "      <td>work</td>\n",
       "      <td>6.602686</td>\n",
       "      <td>10.470977</td>\n",
       "    </tr>\n",
       "    <tr>\n",
       "      <th>2</th>\n",
       "      <td>1.0</td>\n",
       "      <td>home</td>\n",
       "      <td>home</td>\n",
       "      <td>0</td>\n",
       "      <td>24</td>\n",
       "      <td>A</td>\n",
       "      <td>driving</td>\n",
       "      <td>home</td>\n",
       "      <td>0.000000</td>\n",
       "      <td>12.940332</td>\n",
       "    </tr>\n",
       "    <tr>\n",
       "      <th>3</th>\n",
       "      <td>2.0</td>\n",
       "      <td>work</td>\n",
       "      <td>work2</td>\n",
       "      <td>5</td>\n",
       "      <td>23</td>\n",
       "      <td>B</td>\n",
       "      <td>driving</td>\n",
       "      <td>work</td>\n",
       "      <td>6.602686</td>\n",
       "      <td>10.470977</td>\n",
       "    </tr>\n",
       "    <tr>\n",
       "      <th>4</th>\n",
       "      <td>8.0</td>\n",
       "      <td>leisure</td>\n",
       "      <td>leisure</td>\n",
       "      <td>0</td>\n",
       "      <td>24</td>\n",
       "      <td>B</td>\n",
       "      <td>driving</td>\n",
       "      <td>leisure</td>\n",
       "      <td>16.005231</td>\n",
       "      <td>3.380537</td>\n",
       "    </tr>\n",
       "    <tr>\n",
       "      <th>5</th>\n",
       "      <td>1.0</td>\n",
       "      <td>home</td>\n",
       "      <td>dusk</td>\n",
       "      <td>0</td>\n",
       "      <td>24</td>\n",
       "      <td>A</td>\n",
       "      <td>driving</td>\n",
       "      <td>dusk</td>\n",
       "      <td>0.000000</td>\n",
       "      <td>12.940332</td>\n",
       "    </tr>\n",
       "  </tbody>\n",
       "</table>\n",
       "</div>"
      ],
      "text/plain": [
       "   act_id act_label    label  feasible_start  feasible_end location  \\\n",
       "0     1.0      home     dawn               0            24        A   \n",
       "1     2.0      work    work1               5            23        B   \n",
       "2     1.0      home     home               0            24        A   \n",
       "3     2.0      work    work2               5            23        B   \n",
       "4     8.0   leisure  leisure               0            24        B   \n",
       "5     1.0      home     dusk               0            24        A   \n",
       "\n",
       "  mode_travel    group  desired_start  desired_duration  \n",
       "0     driving     dawn       0.000000         12.940332  \n",
       "1     driving     work       6.602686         10.470977  \n",
       "2     driving     home       0.000000         12.940332  \n",
       "3     driving     work       6.602686         10.470977  \n",
       "4     driving  leisure      16.005231          3.380537  \n",
       "5     driving     dusk       0.000000         12.940332  "
      ]
     },
     "execution_count": 3,
     "metadata": {},
     "output_type": "execute_result"
    }
   ],
   "source": [
    "DATA"
   ]
  },
  {
   "cell_type": "markdown",
   "metadata": {},
   "source": [
    "The travel time matrix is a dictionary formatted as:\n",
    "\n",
    "``{mode: {\n",
    "origin_location: {\n",
    "destination_location1 : travel_time_1,\n",
    "destination_location2 : travel_time_2\n",
    "}}}``\n",
    "\n",
    "The travel time is in hours. In this example, we consider the travel times for the *driving* mode and two different locations.\n"
   ]
  },
  {
   "cell_type": "code",
   "execution_count": 4,
   "metadata": {
    "ExecuteTime": {
     "end_time": "2023-08-27T16:24:50.384717Z",
     "start_time": "2023-08-27T16:24:50.379720Z"
    }
   },
   "outputs": [
    {
     "data": {
      "text/plain": [
       "{'driving': {'A': {'A': 0, 'B': 0.0002777777777777778},\n",
       "  'B': {'A': 0.0002777777777777778, 'B': 0}}}"
      ]
     },
     "execution_count": 4,
     "metadata": {},
     "output_type": "execute_result"
    }
   ],
   "source": [
    "TT"
   ]
  },
  {
   "cell_type": "markdown",
   "metadata": {},
   "source": [
    "Finally, the parameters should be a dictionary containing the activity-specific parameters that will be used in the utility function. The dictionary should have the format: \n",
    "\n",
    "``\n",
    "{activity_1: {parameter_1: value, parameter_2: value},\n",
    " activity_2: {parameter_1: value, parameter_2:value}}\n",
    "``\n",
    "\n",
    "In this example, we use the default OASIS utility function (see technical report for details), including penalties for early and late start time, short and long duration, and travel time. The parameters for the *work* activity are:"
   ]
  },
  {
   "cell_type": "code",
   "execution_count": 5,
   "metadata": {
    "ExecuteTime": {
     "end_time": "2023-08-27T16:24:57.992592Z",
     "start_time": "2023-08-27T16:24:57.986591Z"
    }
   },
   "outputs": [
    {
     "data": {
      "text/plain": [
       "{'constant': 13.0838530926,\n",
       " 'early': -0.618657816,\n",
       " 'late': -0.3384943975,\n",
       " 'short': -0.9319615942,\n",
       " 'long': -1.223996357,\n",
       " 'travel_time': -1}"
      ]
     },
     "execution_count": 5,
     "metadata": {},
     "output_type": "execute_result"
    }
   ],
   "source": [
    "PARAMS['work']"
   ]
  },
  {
   "cell_type": "markdown",
   "metadata": {},
   "source": [
    "The next step is to define the error terms that will be used in the utility function. In the default specification (see technical reports for details), we consider normally distributed error terms for each decision variable, and an Extreme Value distributed error term. \n",
    "\n",
    "These random components are instances of the ``ErrorTerms`` class, and are defined in a dedicated dictionary ``UTILITY_PARAMS``. During the simulation the ``draw()`` method of these error objects will be called to draw a new value for each iteration. "
   ]
  },
  {
   "cell_type": "code",
   "execution_count": 6,
   "metadata": {
    "ExecuteTime": {
     "end_time": "2023-08-27T16:25:01.439530Z",
     "start_time": "2023-08-27T16:25:01.425520Z"
    }
   },
   "outputs": [
    {
     "name": "stdout",
     "output_type": "stream",
     "text": [
      "0 1\n"
     ]
    }
   ],
   "source": [
    "UTILITY_PARAMS = {\n",
    "    'error_w': GaussianError(),\n",
    "    'error_x': GaussianError(),\n",
    "    'error_d': GaussianError(),\n",
    "    'error_z': GaussianError(),\n",
    "    'error_ev': EVError()\n",
    "    }\n",
    "\n",
    "print(UTILITY_PARAMS[\"error_ev\"].loc, UTILITY_PARAMS[\"error_ev\"].scale)"
   ]
  },
  {
   "cell_type": "markdown",
   "metadata": {},
   "source": [
    "Finally, we call the ``data_reader()`` function, which transforms the schedule dataframe and parameters into ``ActivityData`` objects that will be used during the simulation. "
   ]
  },
  {
   "cell_type": "code",
   "execution_count": 7,
   "metadata": {
    "ExecuteTime": {
     "end_time": "2023-08-27T16:25:03.776963Z",
     "start_time": "2023-08-27T16:25:03.771520Z"
    }
   },
   "outputs": [],
   "source": [
    "dataset = data_reader(DATA,PARAMS)"
   ]
  },
  {
   "cell_type": "markdown",
   "metadata": {},
   "source": [
    "### Setting up and running the model\n",
    "\n",
    "Once the data is imported, we can set up the simulation model. This is done by creating a ``Simulation`` object, and passing the dataset, the utility function parameters and the parameters of the simulation (number of iterations, and progress output) as arguments. The ``verbose`` argument specifies how frequently the model prints its progress.\n",
    "\n",
    "Each new ``Simulation`` object instantiates a ``Model`` from the ``docplex`` library. The method ``initialize()`` adds decision variables and constraints to the model, and can be modified directly in the corresponding script, or using the ``add\\_constraints()`` function in the runner file. The CPLEX optimisation settings (e.g. time limit) can be specified when creating the ``Simulation``. The default settings are a time limit of 120 seconds per solve call, and the optimality target set to ``global`` (See [IBM's documentation](https://www.ibm.com/docs/en/icos/20.1.0?topic=cplex-list-parameters)for an exhaustive list of parameters)\n",
    "\n",
    "The utility and objective functions of the problem can be directly modified in the ``utility_function`` and ``objective_function()`` methods of the ``Simulation`` object. \n",
    "\n",
    "The ``run()`` method solves the optimisation problem, and returns a ``Results`` object containing the optimised schedule(s), the runtime(s) and the value(s) of objective function.\n",
    "\n",
    "Here, we create a simulation with 100 iterations and a MIP solver. We print the model progress every 25 iterations.\n",
    "\n"
   ]
  },
  {
   "cell_type": "code",
   "execution_count": 8,
   "metadata": {
    "ExecuteTime": {
     "end_time": "2023-08-27T16:27:11.474036Z",
     "start_time": "2023-08-27T16:25:08.703718Z"
    }
   },
   "outputs": [
    {
     "name": "stdout",
     "output_type": "stream",
     "text": [
      "Starting simulation: 100 iterations.\n",
      "-----------------------------------------\n",
      "Starting iteration 25/100.\n",
      "Iteration 25 complete. Iteration runtime: 00:00:00. Time elapsed: 00:00:27.\n",
      "Starting iteration 50/100.\n",
      "Iteration 50 complete. Iteration runtime: 00:00:02. Time elapsed: 00:01:00.\n",
      "Starting iteration 75/100.\n",
      "Iteration 75 complete. Iteration runtime: 00:00:00. Time elapsed: 00:01:36.\n",
      "Starting iteration 100/100.\n",
      "Iteration 100 complete. Iteration runtime: 00:00:00. Time elapsed: 00:02:02.\n",
      "-----------------------------------------\n",
      "Simulation complete. Total runtime: 00:02:02\n"
     ]
    }
   ],
   "source": [
    "N_ITER = 100\n",
    "\n",
    "new_simulation = MIP(dataset, UTILITY_PARAMS,TT)\n",
    "\n",
    "results = new_simulation.run(n_iter = N_ITER, verbose = 25)"
   ]
  },
  {
   "cell_type": "markdown",
   "metadata": {},
   "source": [
    "### Processing the outputs\n",
    "\n",
    "\n",
    "The simulation outputs a ```Results``` object, that stores the optimal schedules, runtimes and objective values for all iterations. Several methods can be helpful to visualise the results: \n",
    "\n",
    "- ``plot()``: plots the optimal schedules. The argument ``plot_every`` controls how many schedules to plot if more than one is provided. By default, the figure is saved as a ``png`` file, but this can be modified with the ``save_fig`` argument (either saving with a different extension or not saving the figure). The plotting function can be further customised by specifying for example the size, title, the legend or the activity colors.\n"
   ]
  },
  {
   "cell_type": "code",
   "execution_count": 9,
   "metadata": {
    "ExecuteTime": {
     "end_time": "2023-08-27T16:30:54.831956Z",
     "start_time": "2023-08-27T16:30:53.900797Z"
    },
    "scrolled": false
   },
   "outputs": [
    {
     "data": {
      "image/png": "[encoded data removed]",
      "text/plain": [
       "<Figure size 2000x300 with 1 Axes>"
      ]
     },
     "metadata": {},
     "output_type": "display_data"
    },
    {
     "data": {
      "image/png": "[encoded data removed]",
      "text/plain": [
       "<Figure size 2000x300 with 1 Axes>"
      ]
     },
     "metadata": {},
     "output_type": "display_data"
    },
    {
     "data": {
      "image/png": "[encoded data removed]",
      "text/plain": [
       "<Figure size 2000x300 with 1 Axes>"
      ]
     },
     "metadata": {},
     "output_type": "display_data"
    },
    {
     "data": {
      "image/png": "[encoded data removed]",
      "text/plain": [
       "<Figure size 2000x300 with 1 Axes>"
      ]
     },
     "metadata": {},
     "output_type": "display_data"
    }
   ],
   "source": [
    "results.plot(plot_every=25, save_fig= False)"
   ]
  },
  {
   "cell_type": "markdown",
   "metadata": {},
   "source": [
    "- ``plot_distribution():`` plots the time of day distribution across all iterations. By default, the figure is saved as a ``png`` file, but this can be modified with the ``save_fig`` argument (either saving with a different extension or not saving the figure). The plotting function can be further customised by specifying for example the size, title, the legend or the activity colors."
   ]
  },
  {
   "cell_type": "code",
   "execution_count": 10,
   "metadata": {
    "ExecuteTime": {
     "end_time": "2023-08-27T16:31:05.102384Z",
     "start_time": "2023-08-27T16:31:04.566429Z"
    }
   },
   "outputs": [
    {
     "data": {
      "image/png": "[encoded data removed]",
      "text/plain": [
       "<Figure size 700x400 with 1 Axes>"
      ]
     },
     "metadata": {},
     "output_type": "display_data"
    }
   ],
   "source": [
    "results.plot_distribution(figure_size= [7,4], save_fig=False)"
   ]
  },
  {
   "cell_type": "markdown",
   "metadata": {},
   "source": [
    "\n",
    "- ``compute_statistics()``: computes simulation statistics (e.g. proportion of out-of-home schedules, average time spent in a given activity) for a given list of activities. These statistics can be directly printed or saved to a file. This function provides bootsrap confidence intervals for each indicator. The settings for the bootstrapping can be specified in the arguments (e.g. number of samples, level of confidence)."
   ]
  },
  {
   "cell_type": "code",
   "execution_count": 11,
   "metadata": {
    "ExecuteTime": {
     "end_time": "2023-08-27T16:31:11.715291Z",
     "start_time": "2023-08-27T16:31:11.160171Z"
    },
    "scrolled": false
   },
   "outputs": [
    {
     "name": "stdout",
     "output_type": "stream",
     "text": [
      "Summary of collected statistics:\n",
      "------------------------------------------------\n",
      "\n",
      "Total number of schedules: 100\n",
      "Proportion of out-of-home schedules: 95.00 %\n",
      "Average time spent out-of-home: 12.45, CI: [12.168,12.659] hours\n",
      "Average number of out-of-home activities: 1.92, CI: [1.905, 1.937]\n",
      "------------------------------------------------\n",
      "\n",
      "Average duration of each activity:\n",
      "Home: 11.55, CI: [11.274, 11.747] hours\n",
      "Work: 10.03, CI: [9.921, 10.121] hours\n",
      "Leisure: 2.97, CI: [2.854, 3.042] hours\n",
      "------------------------------------------------\n",
      "\n"
     ]
    }
   ],
   "source": [
    "results.compute_statistics(['home', 'work', 'leisure'], save = False)"
   ]
  },
  {
   "cell_type": "code",
   "execution_count": null,
   "metadata": {},
   "outputs": [],
   "source": []
  }
 ],
 "metadata": {
  "kernelspec": {
   "display_name": "Python 3",
   "language": "python",
   "name": "python3"
  },
  "language_info": {
   "codemirror_mode": {
    "name": "ipython",
    "version": 3
   },
   "file_extension": ".py",
   "mimetype": "text/x-python",
   "name": "python",
   "nbconvert_exporter": "python",
   "pygments_lexer": "ipython3",
   "version": "3.7.6"
  },
  "toc": {
   "base_numbering": 1,
   "nav_menu": {},
   "number_sections": true,
   "sideBar": true,
   "skip_h1_title": false,
   "title_cell": "Table of Contents",
   "title_sidebar": "Contents",
   "toc_cell": false,
   "toc_position": {},
   "toc_section_display": true,
   "toc_window_display": false
  }
 },
 "nbformat": 4,
 "nbformat_minor": 4
}
